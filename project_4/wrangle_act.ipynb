{
 "cells": [
  {
   "cell_type": "code",
   "execution_count": 1,
   "metadata": {},
   "outputs": [],
   "source": [
    "consumer_key = 'zU1yXwbsjkfxNsWU742IB6eTU'\n",
    "consumer_secret = 'zzfPdfREx4YzK0qnCkBFGeRcXsdP9VbXw9ePgoGeffMT3RgDEa'\n",
    "access_token = '988401472009392129-7Gu5wYpeVe2xw0alIy4DRPD8WZJap07'\n",
    "access_secret = '3fBhHgLDWDk16B2qXkLzgaWFf7RJdnnP72wLtFlXk8l4o'"
   ]
  },
  {
   "cell_type": "code",
   "execution_count": 2,
   "metadata": {},
   "outputs": [],
   "source": [
    "import pandas as pd\n",
    "import numpy as np\n",
    "import tweepy\n",
    "import json\n",
    "import requests"
   ]
  },
  {
   "cell_type": "markdown",
   "metadata": {},
   "source": [
    "<b>Gather</b>"
   ]
  },
  {
   "cell_type": "markdown",
   "metadata": {},
   "source": [
    "Download a file programmatically (image-predictions.tsv)"
   ]
  },
  {
   "cell_type": "code",
   "execution_count": 3,
   "metadata": {},
   "outputs": [],
   "source": [
    "r=requests.get('https://d17h27t6h515a5.cloudfront.net/topher/2017/August/599fd2ad_image-predictions/image-predictions.tsv')\n",
    "with open('image_predictions.tsv','wb') as file:\n",
    "    file.write(r.content)"
   ]
  },
  {
   "cell_type": "markdown",
   "metadata": {},
   "source": [
    "Read a csv file *\"twitter-archive-enhanced.csv\"*<br>\n",
    "Extract tweet_id's for the next stage"
   ]
  },
  {
   "cell_type": "code",
   "execution_count": 4,
   "metadata": {},
   "outputs": [],
   "source": [
    "twitter_archive=pd.read_csv('twitter-archive-enhanced.csv')\n",
    "tweet_id_all=twitter_archive['tweet_id']"
   ]
  },
  {
   "cell_type": "markdown",
   "metadata": {},
   "source": [
    "Gather \"retweet count\" and \"favorite_count\" from Twitter using Tweepy by ID's.<br>\n",
    "*ID's were taken from The WeRateDogs Twitter archive*"
   ]
  },
  {
   "cell_type": "code",
   "execution_count": 5,
   "metadata": {},
   "outputs": [],
   "source": [
    "auth = tweepy.OAuthHandler(consumer_key, consumer_secret)\n",
    "auth.set_access_token(access_token, access_secret)\n",
    "\n",
    "api = tweepy.API(auth,wait_on_rate_limit=True, wait_on_rate_limit_notify=True)"
   ]
  },
  {
   "cell_type": "markdown",
   "metadata": {},
   "source": [
    "Create an empty list, queried data will be stored in the list.<br>\n",
    "*I chose a list because when we'll load the file, it will be converted to a DataFrame easily*"
   ]
  },
  {
   "cell_type": "code",
   "execution_count": 6,
   "metadata": {},
   "outputs": [
    {
     "name": "stdout",
     "output_type": "stream",
     "text": [
      "Rate limit reached. Sleeping for: 554\n",
      "Rate limit reached. Sleeping for: 505\n"
     ]
    }
   ],
   "source": [
    "to_save=[]\n",
    "for tweet_id in tweet_id_all:# tweet_id_all includes all tweet_id from twitter_enhanced csv\n",
    "    one_query={}\n",
    "    try: #create a dictionary {id:..., retweet_count:..., favorite_count:....}\n",
    "        tweet=api.get_status(tweet_id, tweet_mode='extended')\n",
    "        one_query['id']=tweet._json['id']\n",
    "        one_query['retweet_count']=tweet._json['retweet_count']\n",
    "        one_query['favorite_count']=tweet._json['favorite_count']\n",
    "    except tweepy.TweepError:\n",
    "        one_query['id']=tweet_id\n",
    "        one_query['retweet_count']='failed'\n",
    "        one_query['favorite_count']='failed'\n",
    "    to_save.append(one_query) #add each dictionary to the list.\n",
    "with open('tweet_json.txt','w') as file:    \n",
    "    json.dump(to_save, file) #save the list of dictionaries to the tweet_json.txt"
   ]
  },
  {
   "cell_type": "markdown",
   "metadata": {},
   "source": [
    "Open a json file and create a DataFrame"
   ]
  },
  {
   "cell_type": "code",
   "execution_count": 7,
   "metadata": {},
   "outputs": [],
   "source": [
    "with open('tweet_json.txt','r') as file:\n",
    "    json_data=json.load(file)\n",
    "tweet_scores=pd.DataFrame(json_data) #load the file"
   ]
  },
  {
   "cell_type": "code",
   "execution_count": 8,
   "metadata": {},
   "outputs": [
    {
     "data": {
      "text/html": [
       "<div>\n",
       "<style scoped>\n",
       "    .dataframe tbody tr th:only-of-type {\n",
       "        vertical-align: middle;\n",
       "    }\n",
       "\n",
       "    .dataframe tbody tr th {\n",
       "        vertical-align: top;\n",
       "    }\n",
       "\n",
       "    .dataframe thead th {\n",
       "        text-align: right;\n",
       "    }\n",
       "</style>\n",
       "<table border=\"1\" class=\"dataframe\">\n",
       "  <thead>\n",
       "    <tr style=\"text-align: right;\">\n",
       "      <th></th>\n",
       "      <th>favorite_count</th>\n",
       "      <th>id</th>\n",
       "      <th>retweet_count</th>\n",
       "    </tr>\n",
       "  </thead>\n",
       "  <tbody>\n",
       "    <tr>\n",
       "      <th>0</th>\n",
       "      <td>38920</td>\n",
       "      <td>892420643555336193</td>\n",
       "      <td>8628</td>\n",
       "    </tr>\n",
       "    <tr>\n",
       "      <th>1</th>\n",
       "      <td>33327</td>\n",
       "      <td>892177421306343426</td>\n",
       "      <td>6336</td>\n",
       "    </tr>\n",
       "    <tr>\n",
       "      <th>2</th>\n",
       "      <td>25107</td>\n",
       "      <td>891815181378084864</td>\n",
       "      <td>4208</td>\n",
       "    </tr>\n",
       "    <tr>\n",
       "      <th>3</th>\n",
       "      <td>42275</td>\n",
       "      <td>891689557279858688</td>\n",
       "      <td>8749</td>\n",
       "    </tr>\n",
       "    <tr>\n",
       "      <th>4</th>\n",
       "      <td>40435</td>\n",
       "      <td>891327558926688256</td>\n",
       "      <td>9508</td>\n",
       "    </tr>\n",
       "  </tbody>\n",
       "</table>\n",
       "</div>"
      ],
      "text/plain": [
       "  favorite_count                  id retweet_count\n",
       "0          38920  892420643555336193          8628\n",
       "1          33327  892177421306343426          6336\n",
       "2          25107  891815181378084864          4208\n",
       "3          42275  891689557279858688          8749\n",
       "4          40435  891327558926688256          9508"
      ]
     },
     "execution_count": 8,
     "metadata": {},
     "output_type": "execute_result"
    }
   ],
   "source": [
    "tweet_scores.head()"
   ]
  },
  {
   "cell_type": "code",
   "execution_count": 9,
   "metadata": {},
   "outputs": [
    {
     "data": {
      "text/html": [
       "<div>\n",
       "<style scoped>\n",
       "    .dataframe tbody tr th:only-of-type {\n",
       "        vertical-align: middle;\n",
       "    }\n",
       "\n",
       "    .dataframe tbody tr th {\n",
       "        vertical-align: top;\n",
       "    }\n",
       "\n",
       "    .dataframe thead th {\n",
       "        text-align: right;\n",
       "    }\n",
       "</style>\n",
       "<table border=\"1\" class=\"dataframe\">\n",
       "  <thead>\n",
       "    <tr style=\"text-align: right;\">\n",
       "      <th></th>\n",
       "      <th>id</th>\n",
       "      <th>retweet_count</th>\n",
       "      <th>favorite_count</th>\n",
       "    </tr>\n",
       "  </thead>\n",
       "  <tbody>\n",
       "    <tr>\n",
       "      <th>0</th>\n",
       "      <td>892420643555336193</td>\n",
       "      <td>8628</td>\n",
       "      <td>38920</td>\n",
       "    </tr>\n",
       "    <tr>\n",
       "      <th>1</th>\n",
       "      <td>892177421306343426</td>\n",
       "      <td>6336</td>\n",
       "      <td>33327</td>\n",
       "    </tr>\n",
       "    <tr>\n",
       "      <th>2</th>\n",
       "      <td>891815181378084864</td>\n",
       "      <td>4208</td>\n",
       "      <td>25107</td>\n",
       "    </tr>\n",
       "    <tr>\n",
       "      <th>3</th>\n",
       "      <td>891689557279858688</td>\n",
       "      <td>8749</td>\n",
       "      <td>42275</td>\n",
       "    </tr>\n",
       "    <tr>\n",
       "      <th>4</th>\n",
       "      <td>891327558926688256</td>\n",
       "      <td>9508</td>\n",
       "      <td>40435</td>\n",
       "    </tr>\n",
       "  </tbody>\n",
       "</table>\n",
       "</div>"
      ],
      "text/plain": [
       "                   id retweet_count favorite_count\n",
       "0  892420643555336193          8628          38920\n",
       "1  892177421306343426          6336          33327\n",
       "2  891815181378084864          4208          25107\n",
       "3  891689557279858688          8749          42275\n",
       "4  891327558926688256          9508          40435"
      ]
     },
     "execution_count": 9,
     "metadata": {},
     "output_type": "execute_result"
    }
   ],
   "source": [
    "#Change the order of columns. ID will become the first column.\n",
    "tweet_scores = tweet_scores[['id', 'retweet_count','favorite_count']]\n",
    "tweet_scores.head()"
   ]
  },
  {
   "cell_type": "markdown",
   "metadata": {},
   "source": [
    "Download data of image predictions."
   ]
  },
  {
   "cell_type": "code",
   "execution_count": 10,
   "metadata": {},
   "outputs": [
    {
     "data": {
      "text/html": [
       "<div>\n",
       "<style scoped>\n",
       "    .dataframe tbody tr th:only-of-type {\n",
       "        vertical-align: middle;\n",
       "    }\n",
       "\n",
       "    .dataframe tbody tr th {\n",
       "        vertical-align: top;\n",
       "    }\n",
       "\n",
       "    .dataframe thead th {\n",
       "        text-align: right;\n",
       "    }\n",
       "</style>\n",
       "<table border=\"1\" class=\"dataframe\">\n",
       "  <thead>\n",
       "    <tr style=\"text-align: right;\">\n",
       "      <th></th>\n",
       "      <th>tweet_id</th>\n",
       "      <th>jpg_url</th>\n",
       "      <th>img_num</th>\n",
       "      <th>p1</th>\n",
       "      <th>p1_conf</th>\n",
       "      <th>p1_dog</th>\n",
       "      <th>p2</th>\n",
       "      <th>p2_conf</th>\n",
       "      <th>p2_dog</th>\n",
       "      <th>p3</th>\n",
       "      <th>p3_conf</th>\n",
       "      <th>p3_dog</th>\n",
       "    </tr>\n",
       "  </thead>\n",
       "  <tbody>\n",
       "    <tr>\n",
       "      <th>0</th>\n",
       "      <td>666020888022790149</td>\n",
       "      <td>https://pbs.twimg.com/media/CT4udn0WwAA0aMy.jpg</td>\n",
       "      <td>1</td>\n",
       "      <td>Welsh_springer_spaniel</td>\n",
       "      <td>0.465074</td>\n",
       "      <td>True</td>\n",
       "      <td>collie</td>\n",
       "      <td>0.156665</td>\n",
       "      <td>True</td>\n",
       "      <td>Shetland_sheepdog</td>\n",
       "      <td>0.061428</td>\n",
       "      <td>True</td>\n",
       "    </tr>\n",
       "    <tr>\n",
       "      <th>1</th>\n",
       "      <td>666029285002620928</td>\n",
       "      <td>https://pbs.twimg.com/media/CT42GRgUYAA5iDo.jpg</td>\n",
       "      <td>1</td>\n",
       "      <td>redbone</td>\n",
       "      <td>0.506826</td>\n",
       "      <td>True</td>\n",
       "      <td>miniature_pinscher</td>\n",
       "      <td>0.074192</td>\n",
       "      <td>True</td>\n",
       "      <td>Rhodesian_ridgeback</td>\n",
       "      <td>0.072010</td>\n",
       "      <td>True</td>\n",
       "    </tr>\n",
       "    <tr>\n",
       "      <th>2</th>\n",
       "      <td>666033412701032449</td>\n",
       "      <td>https://pbs.twimg.com/media/CT4521TWwAEvMyu.jpg</td>\n",
       "      <td>1</td>\n",
       "      <td>German_shepherd</td>\n",
       "      <td>0.596461</td>\n",
       "      <td>True</td>\n",
       "      <td>malinois</td>\n",
       "      <td>0.138584</td>\n",
       "      <td>True</td>\n",
       "      <td>bloodhound</td>\n",
       "      <td>0.116197</td>\n",
       "      <td>True</td>\n",
       "    </tr>\n",
       "    <tr>\n",
       "      <th>3</th>\n",
       "      <td>666044226329800704</td>\n",
       "      <td>https://pbs.twimg.com/media/CT5Dr8HUEAA-lEu.jpg</td>\n",
       "      <td>1</td>\n",
       "      <td>Rhodesian_ridgeback</td>\n",
       "      <td>0.408143</td>\n",
       "      <td>True</td>\n",
       "      <td>redbone</td>\n",
       "      <td>0.360687</td>\n",
       "      <td>True</td>\n",
       "      <td>miniature_pinscher</td>\n",
       "      <td>0.222752</td>\n",
       "      <td>True</td>\n",
       "    </tr>\n",
       "    <tr>\n",
       "      <th>4</th>\n",
       "      <td>666049248165822465</td>\n",
       "      <td>https://pbs.twimg.com/media/CT5IQmsXIAAKY4A.jpg</td>\n",
       "      <td>1</td>\n",
       "      <td>miniature_pinscher</td>\n",
       "      <td>0.560311</td>\n",
       "      <td>True</td>\n",
       "      <td>Rottweiler</td>\n",
       "      <td>0.243682</td>\n",
       "      <td>True</td>\n",
       "      <td>Doberman</td>\n",
       "      <td>0.154629</td>\n",
       "      <td>True</td>\n",
       "    </tr>\n",
       "  </tbody>\n",
       "</table>\n",
       "</div>"
      ],
      "text/plain": [
       "             tweet_id                                          jpg_url  \\\n",
       "0  666020888022790149  https://pbs.twimg.com/media/CT4udn0WwAA0aMy.jpg   \n",
       "1  666029285002620928  https://pbs.twimg.com/media/CT42GRgUYAA5iDo.jpg   \n",
       "2  666033412701032449  https://pbs.twimg.com/media/CT4521TWwAEvMyu.jpg   \n",
       "3  666044226329800704  https://pbs.twimg.com/media/CT5Dr8HUEAA-lEu.jpg   \n",
       "4  666049248165822465  https://pbs.twimg.com/media/CT5IQmsXIAAKY4A.jpg   \n",
       "\n",
       "   img_num                      p1   p1_conf  p1_dog                  p2  \\\n",
       "0        1  Welsh_springer_spaniel  0.465074    True              collie   \n",
       "1        1                 redbone  0.506826    True  miniature_pinscher   \n",
       "2        1         German_shepherd  0.596461    True            malinois   \n",
       "3        1     Rhodesian_ridgeback  0.408143    True             redbone   \n",
       "4        1      miniature_pinscher  0.560311    True          Rottweiler   \n",
       "\n",
       "    p2_conf  p2_dog                   p3   p3_conf  p3_dog  \n",
       "0  0.156665    True    Shetland_sheepdog  0.061428    True  \n",
       "1  0.074192    True  Rhodesian_ridgeback  0.072010    True  \n",
       "2  0.138584    True           bloodhound  0.116197    True  \n",
       "3  0.360687    True   miniature_pinscher  0.222752    True  \n",
       "4  0.243682    True             Doberman  0.154629    True  "
      ]
     },
     "execution_count": 10,
     "metadata": {},
     "output_type": "execute_result"
    }
   ],
   "source": [
    "image_predictions=pd.read_csv('image_predictions.tsv', sep='\\t') #load the data of predictions\n",
    "image_predictions.head()"
   ]
  },
  {
   "cell_type": "markdown",
   "metadata": {},
   "source": [
    "<b>Assess</b>"
   ]
  },
  {
   "cell_type": "code",
   "execution_count": 11,
   "metadata": {},
   "outputs": [
    {
     "name": "stdout",
     "output_type": "stream",
     "text": [
      "<class 'pandas.core.frame.DataFrame'>\n",
      "RangeIndex: 2356 entries, 0 to 2355\n",
      "Data columns (total 17 columns):\n",
      "tweet_id                      2356 non-null int64\n",
      "in_reply_to_status_id         78 non-null float64\n",
      "in_reply_to_user_id           78 non-null float64\n",
      "timestamp                     2356 non-null object\n",
      "source                        2356 non-null object\n",
      "text                          2356 non-null object\n",
      "retweeted_status_id           181 non-null float64\n",
      "retweeted_status_user_id      181 non-null float64\n",
      "retweeted_status_timestamp    181 non-null object\n",
      "expanded_urls                 2297 non-null object\n",
      "rating_numerator              2356 non-null int64\n",
      "rating_denominator            2356 non-null int64\n",
      "name                          2356 non-null object\n",
      "doggo                         2356 non-null object\n",
      "floofer                       2356 non-null object\n",
      "pupper                        2356 non-null object\n",
      "puppo                         2356 non-null object\n",
      "dtypes: float64(4), int64(3), object(10)\n",
      "memory usage: 313.0+ KB\n"
     ]
    }
   ],
   "source": [
    "twitter_archive.info()"
   ]
  },
  {
   "cell_type": "code",
   "execution_count": 12,
   "metadata": {},
   "outputs": [
    {
     "data": {
      "text/plain": [
       "10     2333\n",
       "11        3\n",
       "50        3\n",
       "80        2\n",
       "20        2\n",
       "2         1\n",
       "16        1\n",
       "40        1\n",
       "70        1\n",
       "15        1\n",
       "90        1\n",
       "110       1\n",
       "120       1\n",
       "130       1\n",
       "150       1\n",
       "170       1\n",
       "7         1\n",
       "0         1\n",
       "Name: rating_denominator, dtype: int64"
      ]
     },
     "execution_count": 12,
     "metadata": {},
     "output_type": "execute_result"
    }
   ],
   "source": [
    "twitter_archive.rating_denominator.value_counts()"
   ]
  },
  {
   "cell_type": "markdown",
   "metadata": {},
   "source": [
    "The denominator should be 10.<br>"
   ]
  },
  {
   "cell_type": "code",
   "execution_count": 13,
   "metadata": {},
   "outputs": [
    {
     "data": {
      "text/plain": [
       "12      558\n",
       "11      464\n",
       "10      461\n",
       "13      351\n",
       "9       158\n",
       "8       102\n",
       "7        55\n",
       "14       54\n",
       "5        37\n",
       "6        32\n",
       "3        19\n",
       "4        17\n",
       "1         9\n",
       "2         9\n",
       "420       2\n",
       "0         2\n",
       "15        2\n",
       "75        2\n",
       "80        1\n",
       "20        1\n",
       "24        1\n",
       "26        1\n",
       "44        1\n",
       "50        1\n",
       "60        1\n",
       "165       1\n",
       "84        1\n",
       "88        1\n",
       "144       1\n",
       "182       1\n",
       "143       1\n",
       "666       1\n",
       "960       1\n",
       "1776      1\n",
       "17        1\n",
       "27        1\n",
       "45        1\n",
       "99        1\n",
       "121       1\n",
       "204       1\n",
       "Name: rating_numerator, dtype: int64"
      ]
     },
     "execution_count": 13,
     "metadata": {},
     "output_type": "execute_result"
    }
   ],
   "source": [
    "twitter_archive.rating_numerator.value_counts()"
   ]
  },
  {
   "cell_type": "markdown",
   "metadata": {},
   "source": [
    "The numerator should be between 1 and 14.<br>"
   ]
  },
  {
   "cell_type": "code",
   "execution_count": 14,
   "metadata": {},
   "outputs": [
    {
     "data": {
      "text/plain": [
       "0       2017-08-01 16:23:56 +0000\n",
       "1       2017-08-01 00:17:27 +0000\n",
       "2       2017-07-31 00:18:03 +0000\n",
       "3       2017-07-30 15:58:51 +0000\n",
       "4       2017-07-29 16:00:24 +0000\n",
       "5       2017-07-29 00:08:17 +0000\n",
       "6       2017-07-28 16:27:12 +0000\n",
       "7       2017-07-28 00:22:40 +0000\n",
       "8       2017-07-27 16:25:51 +0000\n",
       "9       2017-07-26 15:59:51 +0000\n",
       "10      2017-07-26 00:31:25 +0000\n",
       "11      2017-07-25 16:11:53 +0000\n",
       "12      2017-07-25 01:55:32 +0000\n",
       "13      2017-07-25 00:10:02 +0000\n",
       "14      2017-07-24 17:02:04 +0000\n",
       "15      2017-07-24 00:19:32 +0000\n",
       "16      2017-07-23 00:22:39 +0000\n",
       "17      2017-07-22 16:56:37 +0000\n",
       "18      2017-07-22 00:23:06 +0000\n",
       "19      2017-07-21 01:02:36 +0000\n",
       "20      2017-07-20 16:49:33 +0000\n",
       "21      2017-07-19 16:06:48 +0000\n",
       "22      2017-07-19 03:39:09 +0000\n",
       "23      2017-07-19 00:47:34 +0000\n",
       "24      2017-07-18 16:08:03 +0000\n",
       "25      2017-07-18 00:07:08 +0000\n",
       "26      2017-07-17 16:17:36 +0000\n",
       "27      2017-07-16 23:58:41 +0000\n",
       "28      2017-07-16 20:14:00 +0000\n",
       "29      2017-07-15 23:25:31 +0000\n",
       "                  ...            \n",
       "2326    2015-11-17 00:24:19 +0000\n",
       "2327    2015-11-17 00:06:54 +0000\n",
       "2328    2015-11-16 23:23:41 +0000\n",
       "2329    2015-11-16 21:54:18 +0000\n",
       "2330    2015-11-16 21:10:36 +0000\n",
       "2331    2015-11-16 20:32:58 +0000\n",
       "2332    2015-11-16 20:01:42 +0000\n",
       "2333    2015-11-16 19:31:45 +0000\n",
       "2334    2015-11-16 16:37:02 +0000\n",
       "2335    2015-11-16 16:11:11 +0000\n",
       "2336    2015-11-16 15:14:19 +0000\n",
       "2337    2015-11-16 14:57:41 +0000\n",
       "2338    2015-11-16 04:02:55 +0000\n",
       "2339    2015-11-16 03:55:04 +0000\n",
       "2340    2015-11-16 03:44:34 +0000\n",
       "2341    2015-11-16 03:22:39 +0000\n",
       "2342    2015-11-16 02:38:37 +0000\n",
       "2343    2015-11-16 01:59:36 +0000\n",
       "2344    2015-11-16 01:52:02 +0000\n",
       "2345    2015-11-16 01:22:45 +0000\n",
       "2346    2015-11-16 01:01:59 +0000\n",
       "2347    2015-11-16 00:55:59 +0000\n",
       "2348    2015-11-16 00:49:46 +0000\n",
       "2349    2015-11-16 00:35:11 +0000\n",
       "2350    2015-11-16 00:30:50 +0000\n",
       "2351    2015-11-16 00:24:50 +0000\n",
       "2352    2015-11-16 00:04:52 +0000\n",
       "2353    2015-11-15 23:21:54 +0000\n",
       "2354    2015-11-15 23:05:30 +0000\n",
       "2355    2015-11-15 22:32:08 +0000\n",
       "Name: timestamp, Length: 2356, dtype: object"
      ]
     },
     "execution_count": 14,
     "metadata": {},
     "output_type": "execute_result"
    }
   ],
   "source": [
    "twitter_archive.timestamp"
   ]
  },
  {
   "cell_type": "markdown",
   "metadata": {},
   "source": [
    "Erroneous datatype. Required converting to datetime64."
   ]
  },
  {
   "cell_type": "code",
   "execution_count": 15,
   "metadata": {},
   "outputs": [
    {
     "data": {
      "text/plain": [
       "None          745\n",
       "a              55\n",
       "Charlie        12\n",
       "Oliver         11\n",
       "Lucy           11\n",
       "Cooper         11\n",
       "Penny          10\n",
       "Tucker         10\n",
       "Lola           10\n",
       "Winston         9\n",
       "Bo              9\n",
       "the             8\n",
       "Sadie           8\n",
       "an              7\n",
       "Buddy           7\n",
       "Daisy           7\n",
       "Toby            7\n",
       "Bailey          7\n",
       "Dave            6\n",
       "Stanley         6\n",
       "Koda            6\n",
       "Oscar           6\n",
       "Bella           6\n",
       "Scout           6\n",
       "Jax             6\n",
       "Jack            6\n",
       "Rusty           6\n",
       "Leo             6\n",
       "Milo            6\n",
       "Chester         5\n",
       "             ... \n",
       "Genevieve       1\n",
       "Rorie           1\n",
       "Beckham         1\n",
       "Bloo            1\n",
       "officially      1\n",
       "Pepper          1\n",
       "Banjo           1\n",
       "Rhino           1\n",
       "Jazz            1\n",
       "Hazel           1\n",
       "Stella          1\n",
       "Cecil           1\n",
       "Pinot           1\n",
       "Stephanus       1\n",
       "Skye            1\n",
       "Tassy           1\n",
       "Carll           1\n",
       "Millie          1\n",
       "Joey            1\n",
       "Chuck           1\n",
       "Cal             1\n",
       "Naphaniel       1\n",
       "Pete            1\n",
       "Tonks           1\n",
       "Timmy           1\n",
       "Ralph           1\n",
       "Godi            1\n",
       "Ralphé          1\n",
       "Bobbay          1\n",
       "Cannon          1\n",
       "Name: name, Length: 957, dtype: int64"
      ]
     },
     "execution_count": 15,
     "metadata": {},
     "output_type": "execute_result"
    }
   ],
   "source": [
    "twitter_archive.name.value_counts()"
   ]
  },
  {
   "cell_type": "markdown",
   "metadata": {},
   "source": [
    "Invalid names such as \"a\", \"an\", \"old\", \"infiriating\", etc."
   ]
  },
  {
   "cell_type": "code",
   "execution_count": 16,
   "metadata": {},
   "outputs": [
    {
     "data": {
      "text/plain": [
       "0"
      ]
     },
     "execution_count": 16,
     "metadata": {},
     "output_type": "execute_result"
    }
   ],
   "source": [
    "sum(twitter_archive.tweet_id.duplicated())"
   ]
  },
  {
   "cell_type": "code",
   "execution_count": 17,
   "metadata": {},
   "outputs": [
    {
     "data": {
      "text/plain": [
       "0        38920\n",
       "1        33327\n",
       "2        25107\n",
       "3        42275\n",
       "4        40435\n",
       "5        20279\n",
       "6        11890\n",
       "7        65757\n",
       "8        27855\n",
       "9        32037\n",
       "10       30754\n",
       "11       27871\n",
       "12       48251\n",
       "13       27264\n",
       "14       15132\n",
       "15       25392\n",
       "16       29177\n",
       "17       25683\n",
       "18       19988\n",
       "19      failed\n",
       "20       21837\n",
       "21       30297\n",
       "22       46385\n",
       "23       69342\n",
       "24       33794\n",
       "25       30649\n",
       "26       35277\n",
       "27       12106\n",
       "28       22499\n",
       "29       21187\n",
       "         ...  \n",
       "2326       450\n",
       "2327       111\n",
       "2328       168\n",
       "2329       191\n",
       "2330       785\n",
       "2331       224\n",
       "2332       301\n",
       "2333       199\n",
       "2334       513\n",
       "2335       151\n",
       "2336       178\n",
       "2337       105\n",
       "2338     14436\n",
       "2339        80\n",
       "2340       158\n",
       "2341       166\n",
       "2342       120\n",
       "2343       326\n",
       "2344       148\n",
       "2345       480\n",
       "2346       112\n",
       "2347       298\n",
       "2348       440\n",
       "2349      1231\n",
       "2350       133\n",
       "2351       109\n",
       "2352       301\n",
       "2353       125\n",
       "2354       131\n",
       "2355      2561\n",
       "Name: favorite_count, Length: 2356, dtype: object"
      ]
     },
     "execution_count": 17,
     "metadata": {},
     "output_type": "execute_result"
    }
   ],
   "source": [
    "tweet_scores.favorite_count"
   ]
  },
  {
   "cell_type": "markdown",
   "metadata": {},
   "source": [
    "19 values weren't received from Twitter."
   ]
  },
  {
   "cell_type": "code",
   "execution_count": 18,
   "metadata": {
    "scrolled": false
   },
   "outputs": [
    {
     "data": {
      "text/html": [
       "<div>\n",
       "<style scoped>\n",
       "    .dataframe tbody tr th:only-of-type {\n",
       "        vertical-align: middle;\n",
       "    }\n",
       "\n",
       "    .dataframe tbody tr th {\n",
       "        vertical-align: top;\n",
       "    }\n",
       "\n",
       "    .dataframe thead th {\n",
       "        text-align: right;\n",
       "    }\n",
       "</style>\n",
       "<table border=\"1\" class=\"dataframe\">\n",
       "  <thead>\n",
       "    <tr style=\"text-align: right;\">\n",
       "      <th></th>\n",
       "      <th>tweet_id</th>\n",
       "      <th>in_reply_to_status_id</th>\n",
       "      <th>in_reply_to_user_id</th>\n",
       "      <th>timestamp</th>\n",
       "      <th>source</th>\n",
       "      <th>text</th>\n",
       "      <th>retweeted_status_id</th>\n",
       "      <th>retweeted_status_user_id</th>\n",
       "      <th>retweeted_status_timestamp</th>\n",
       "      <th>expanded_urls</th>\n",
       "      <th>rating_numerator</th>\n",
       "      <th>rating_denominator</th>\n",
       "      <th>name</th>\n",
       "      <th>doggo</th>\n",
       "      <th>floofer</th>\n",
       "      <th>pupper</th>\n",
       "      <th>puppo</th>\n",
       "    </tr>\n",
       "  </thead>\n",
       "  <tbody>\n",
       "    <tr>\n",
       "      <th>19</th>\n",
       "      <td>888202515573088257</td>\n",
       "      <td>NaN</td>\n",
       "      <td>NaN</td>\n",
       "      <td>2017-07-21 01:02:36 +0000</td>\n",
       "      <td>&lt;a href=\"http://twitter.com/download/iphone\" r...</td>\n",
       "      <td>RT @dog_rates: This is Canela. She attempted s...</td>\n",
       "      <td>8.874740e+17</td>\n",
       "      <td>4.196984e+09</td>\n",
       "      <td>2017-07-19 00:47:34 +0000</td>\n",
       "      <td>https://twitter.com/dog_rates/status/887473957...</td>\n",
       "      <td>13</td>\n",
       "      <td>10</td>\n",
       "      <td>Canela</td>\n",
       "      <td>None</td>\n",
       "      <td>None</td>\n",
       "      <td>None</td>\n",
       "      <td>None</td>\n",
       "    </tr>\n",
       "    <tr>\n",
       "      <th>32</th>\n",
       "      <td>886054160059072513</td>\n",
       "      <td>NaN</td>\n",
       "      <td>NaN</td>\n",
       "      <td>2017-07-15 02:45:48 +0000</td>\n",
       "      <td>&lt;a href=\"http://twitter.com/download/iphone\" r...</td>\n",
       "      <td>RT @Athletics: 12/10 #BATP https://t.co/WxwJmv...</td>\n",
       "      <td>8.860537e+17</td>\n",
       "      <td>1.960740e+07</td>\n",
       "      <td>2017-07-15 02:44:07 +0000</td>\n",
       "      <td>https://twitter.com/dog_rates/status/886053434...</td>\n",
       "      <td>12</td>\n",
       "      <td>10</td>\n",
       "      <td>None</td>\n",
       "      <td>None</td>\n",
       "      <td>None</td>\n",
       "      <td>None</td>\n",
       "      <td>None</td>\n",
       "    </tr>\n",
       "    <tr>\n",
       "      <th>36</th>\n",
       "      <td>885311592912609280</td>\n",
       "      <td>NaN</td>\n",
       "      <td>NaN</td>\n",
       "      <td>2017-07-13 01:35:06 +0000</td>\n",
       "      <td>&lt;a href=\"http://twitter.com/download/iphone\" r...</td>\n",
       "      <td>RT @dog_rates: This is Lilly. She just paralle...</td>\n",
       "      <td>8.305833e+17</td>\n",
       "      <td>4.196984e+09</td>\n",
       "      <td>2017-02-12 01:04:29 +0000</td>\n",
       "      <td>https://twitter.com/dog_rates/status/830583320...</td>\n",
       "      <td>13</td>\n",
       "      <td>10</td>\n",
       "      <td>Lilly</td>\n",
       "      <td>None</td>\n",
       "      <td>None</td>\n",
       "      <td>None</td>\n",
       "      <td>None</td>\n",
       "    </tr>\n",
       "    <tr>\n",
       "      <th>68</th>\n",
       "      <td>879130579576475649</td>\n",
       "      <td>NaN</td>\n",
       "      <td>NaN</td>\n",
       "      <td>2017-06-26 00:13:58 +0000</td>\n",
       "      <td>&lt;a href=\"http://twitter.com/download/iphone\" r...</td>\n",
       "      <td>RT @dog_rates: This is Emmy. She was adopted t...</td>\n",
       "      <td>8.780576e+17</td>\n",
       "      <td>4.196984e+09</td>\n",
       "      <td>2017-06-23 01:10:23 +0000</td>\n",
       "      <td>https://twitter.com/dog_rates/status/878057613...</td>\n",
       "      <td>14</td>\n",
       "      <td>10</td>\n",
       "      <td>Emmy</td>\n",
       "      <td>None</td>\n",
       "      <td>None</td>\n",
       "      <td>None</td>\n",
       "      <td>None</td>\n",
       "    </tr>\n",
       "    <tr>\n",
       "      <th>73</th>\n",
       "      <td>878404777348136964</td>\n",
       "      <td>NaN</td>\n",
       "      <td>NaN</td>\n",
       "      <td>2017-06-24 00:09:53 +0000</td>\n",
       "      <td>&lt;a href=\"http://twitter.com/download/iphone\" r...</td>\n",
       "      <td>RT @dog_rates: Meet Shadow. In an attempt to r...</td>\n",
       "      <td>8.782815e+17</td>\n",
       "      <td>4.196984e+09</td>\n",
       "      <td>2017-06-23 16:00:04 +0000</td>\n",
       "      <td>https://www.gofundme.com/3yd6y1c,https://twitt...</td>\n",
       "      <td>13</td>\n",
       "      <td>10</td>\n",
       "      <td>Shadow</td>\n",
       "      <td>None</td>\n",
       "      <td>None</td>\n",
       "      <td>None</td>\n",
       "      <td>None</td>\n",
       "    </tr>\n",
       "  </tbody>\n",
       "</table>\n",
       "</div>"
      ],
      "text/plain": [
       "              tweet_id  in_reply_to_status_id  in_reply_to_user_id  \\\n",
       "19  888202515573088257                    NaN                  NaN   \n",
       "32  886054160059072513                    NaN                  NaN   \n",
       "36  885311592912609280                    NaN                  NaN   \n",
       "68  879130579576475649                    NaN                  NaN   \n",
       "73  878404777348136964                    NaN                  NaN   \n",
       "\n",
       "                    timestamp  \\\n",
       "19  2017-07-21 01:02:36 +0000   \n",
       "32  2017-07-15 02:45:48 +0000   \n",
       "36  2017-07-13 01:35:06 +0000   \n",
       "68  2017-06-26 00:13:58 +0000   \n",
       "73  2017-06-24 00:09:53 +0000   \n",
       "\n",
       "                                               source  \\\n",
       "19  <a href=\"http://twitter.com/download/iphone\" r...   \n",
       "32  <a href=\"http://twitter.com/download/iphone\" r...   \n",
       "36  <a href=\"http://twitter.com/download/iphone\" r...   \n",
       "68  <a href=\"http://twitter.com/download/iphone\" r...   \n",
       "73  <a href=\"http://twitter.com/download/iphone\" r...   \n",
       "\n",
       "                                                 text  retweeted_status_id  \\\n",
       "19  RT @dog_rates: This is Canela. She attempted s...         8.874740e+17   \n",
       "32  RT @Athletics: 12/10 #BATP https://t.co/WxwJmv...         8.860537e+17   \n",
       "36  RT @dog_rates: This is Lilly. She just paralle...         8.305833e+17   \n",
       "68  RT @dog_rates: This is Emmy. She was adopted t...         8.780576e+17   \n",
       "73  RT @dog_rates: Meet Shadow. In an attempt to r...         8.782815e+17   \n",
       "\n",
       "    retweeted_status_user_id retweeted_status_timestamp  \\\n",
       "19              4.196984e+09  2017-07-19 00:47:34 +0000   \n",
       "32              1.960740e+07  2017-07-15 02:44:07 +0000   \n",
       "36              4.196984e+09  2017-02-12 01:04:29 +0000   \n",
       "68              4.196984e+09  2017-06-23 01:10:23 +0000   \n",
       "73              4.196984e+09  2017-06-23 16:00:04 +0000   \n",
       "\n",
       "                                        expanded_urls  rating_numerator  \\\n",
       "19  https://twitter.com/dog_rates/status/887473957...                13   \n",
       "32  https://twitter.com/dog_rates/status/886053434...                12   \n",
       "36  https://twitter.com/dog_rates/status/830583320...                13   \n",
       "68  https://twitter.com/dog_rates/status/878057613...                14   \n",
       "73  https://www.gofundme.com/3yd6y1c,https://twitt...                13   \n",
       "\n",
       "    rating_denominator    name doggo floofer pupper puppo  \n",
       "19                  10  Canela  None    None   None  None  \n",
       "32                  10    None  None    None   None  None  \n",
       "36                  10   Lilly  None    None   None  None  \n",
       "68                  10    Emmy  None    None   None  None  \n",
       "73                  10  Shadow  None    None   None  None  "
      ]
     },
     "execution_count": 18,
     "metadata": {},
     "output_type": "execute_result"
    }
   ],
   "source": [
    "twitter_archive[~twitter_archive.retweeted_status_id.isnull()].head()"
   ]
  },
  {
   "cell_type": "code",
   "execution_count": 19,
   "metadata": {},
   "outputs": [
    {
     "data": {
      "text/plain": [
       "181"
      ]
     },
     "execution_count": 19,
     "metadata": {},
     "output_type": "execute_result"
    }
   ],
   "source": [
    "sum(~twitter_archive['retweeted_status_id'].isnull())"
   ]
  },
  {
   "cell_type": "markdown",
   "metadata": {},
   "source": [
    "181 tweet_id's are retweets"
   ]
  },
  {
   "cell_type": "code",
   "execution_count": 20,
   "metadata": {
    "scrolled": true
   },
   "outputs": [
    {
     "data": {
      "text/plain": [
       "golden_retriever             150\n",
       "Labrador_retriever           100\n",
       "Pembroke                      89\n",
       "Chihuahua                     83\n",
       "pug                           57\n",
       "chow                          44\n",
       "Samoyed                       43\n",
       "toy_poodle                    39\n",
       "Pomeranian                    38\n",
       "cocker_spaniel                30\n",
       "malamute                      30\n",
       "French_bulldog                26\n",
       "Chesapeake_Bay_retriever      23\n",
       "miniature_pinscher            23\n",
       "seat_belt                     22\n",
       "Siberian_husky                20\n",
       "German_shepherd               20\n",
       "Staffordshire_bullterrier     20\n",
       "web_site                      19\n",
       "Cardigan                      19\n",
       "Eskimo_dog                    18\n",
       "Maltese_dog                   18\n",
       "Shetland_sheepdog             18\n",
       "teddy                         18\n",
       "beagle                        18\n",
       "Shih-Tzu                      17\n",
       "Lakeland_terrier              17\n",
       "Rottweiler                    17\n",
       "kuvasz                        16\n",
       "Italian_greyhound             16\n",
       "                            ... \n",
       "carton                         1\n",
       "hammer                         1\n",
       "revolver                       1\n",
       "military_uniform               1\n",
       "pot                            1\n",
       "snowmobile                     1\n",
       "fire_engine                    1\n",
       "wild_boar                      1\n",
       "rapeseed                       1\n",
       "banana                         1\n",
       "coho                           1\n",
       "bannister                      1\n",
       "African_grey                   1\n",
       "shopping_basket                1\n",
       "bookcase                       1\n",
       "otter                          1\n",
       "pencil_box                     1\n",
       "groenendael                    1\n",
       "standard_schnauzer             1\n",
       "robin                          1\n",
       "beaver                         1\n",
       "toilet_seat                    1\n",
       "sandbar                        1\n",
       "orange                         1\n",
       "padlock                        1\n",
       "bonnet                         1\n",
       "tiger_shark                    1\n",
       "EntleBucher                    1\n",
       "water_buffalo                  1\n",
       "sulphur-crested_cockatoo       1\n",
       "Name: p1, Length: 378, dtype: int64"
      ]
     },
     "execution_count": 20,
     "metadata": {},
     "output_type": "execute_result"
    }
   ],
   "source": [
    "image_predictions.p1.value_counts()"
   ]
  },
  {
   "cell_type": "markdown",
   "metadata": {},
   "source": [
    "Invalid values for p1, p2, p3(dog breeds):<br>\n",
    "coil, tick, revolver, binoculars, ping-pong_ball, electric_fan, giant_panda, maillot, bee_eater, suit, pillow, ocarina, bighorn, three-toed_sloth, basketball, bald_eagle, lawn_mower, conch, shopping_ basket, scorpion, bonnet, pool_table, carton, bearskin, piggy_bank, leaf_beetle, lacewing, ibex, seat_belt, web_site, tennis_ball, dingo, doormat, Siamese_cat, bath_towel, hamster, swing, tub, ice_bear, car_mirror, llama, redbone, home_theater, ox, Newfoundland, Lhasa, shopping_cart, porcupine, minivan, hippopotamus, brown_bear, goose, bow_tie, wombat, barrow, hog, patio, guinea_pig, Arctic_fox, bluetick, jigsaw_puzzle, bathtub, mousetrap, ram, cairn, wood_rabbit, white_wolf, prison, Arabian_camel, motor_scooter, refrigerator, vacuum, cowboy_hat, washbasin, toilet_tissue, seashore, common_iguana, space_heater, sea_lion, ski_mask, window_shade, Christmas_stocking, jack-o'-lantern, Leonberg, muzzle, stone_wall, comic_book, balloon, triceratops, dishwasher, dough, paper_towel, hen, gondola, frilled_lizard, sorrel, weasel, leatherback_turtle, birdhouse, tusker, wallaby, upright, dogsled, hermit_crab, paddle, lakeside, gas_pump, bustard, koala, toyshop, badger, snorkel, Loafer, Angora, shower_curtain, cash_machine, box-turtle, Appenzeller, ostrich, acorn_squash, snail, geyser, bubble, laptop, jellyfish, chimpanzee, axolotl, feather_boa, wool, hyena, street_sign, meerket, bannister, barbell, four-poster, sandbar, Madagaskar_cat, minibus, handkerchief, rain_barrel, trombone, walking_stick, ice_lolly, grey_fox, mud_turtle, banana, loupe, starfish, expresso, black-footed_ferret, radio_telescope, cuirass, syringe, marmot, African_grey, bib, cheeseburger, cheetah, studio_couch, envelope and so on."
   ]
  },
  {
   "cell_type": "code",
   "execution_count": 21,
   "metadata": {},
   "outputs": [
    {
     "data": {
      "text/plain": [
       "66"
      ]
     },
     "execution_count": 21,
     "metadata": {},
     "output_type": "execute_result"
    }
   ],
   "source": [
    "sum(image_predictions.jpg_url.duplicated())"
   ]
  },
  {
   "cell_type": "markdown",
   "metadata": {},
   "source": [
    "66 duplicated url, that means 2 different tweet_id have the same tweet_id and different jpg_url"
   ]
  },
  {
   "cell_type": "code",
   "execution_count": 22,
   "metadata": {},
   "outputs": [
    {
     "data": {
      "text/html": [
       "<div>\n",
       "<style scoped>\n",
       "    .dataframe tbody tr th:only-of-type {\n",
       "        vertical-align: middle;\n",
       "    }\n",
       "\n",
       "    .dataframe tbody tr th {\n",
       "        vertical-align: top;\n",
       "    }\n",
       "\n",
       "    .dataframe thead th {\n",
       "        text-align: right;\n",
       "    }\n",
       "</style>\n",
       "<table border=\"1\" class=\"dataframe\">\n",
       "  <thead>\n",
       "    <tr style=\"text-align: right;\">\n",
       "      <th></th>\n",
       "      <th>tweet_id</th>\n",
       "      <th>jpg_url</th>\n",
       "      <th>img_num</th>\n",
       "      <th>p1</th>\n",
       "      <th>p1_conf</th>\n",
       "      <th>p1_dog</th>\n",
       "      <th>p2</th>\n",
       "      <th>p2_conf</th>\n",
       "      <th>p2_dog</th>\n",
       "      <th>p3</th>\n",
       "      <th>p3_conf</th>\n",
       "      <th>p3_dog</th>\n",
       "    </tr>\n",
       "  </thead>\n",
       "  <tbody>\n",
       "    <tr>\n",
       "      <th>985</th>\n",
       "      <td>707610948723478529</td>\n",
       "      <td>https://pbs.twimg.com/media/CdHwZd0VIAA4792.jpg</td>\n",
       "      <td>1</td>\n",
       "      <td>golden_retriever</td>\n",
       "      <td>0.383223</td>\n",
       "      <td>True</td>\n",
       "      <td>cocker_spaniel</td>\n",
       "      <td>0.16593</td>\n",
       "      <td>True</td>\n",
       "      <td>Chesapeake_Bay_retriever</td>\n",
       "      <td>0.118199</td>\n",
       "      <td>True</td>\n",
       "    </tr>\n",
       "    <tr>\n",
       "      <th>1487</th>\n",
       "      <td>782021823840026624</td>\n",
       "      <td>https://pbs.twimg.com/media/CdHwZd0VIAA4792.jpg</td>\n",
       "      <td>1</td>\n",
       "      <td>golden_retriever</td>\n",
       "      <td>0.383223</td>\n",
       "      <td>True</td>\n",
       "      <td>cocker_spaniel</td>\n",
       "      <td>0.16593</td>\n",
       "      <td>True</td>\n",
       "      <td>Chesapeake_Bay_retriever</td>\n",
       "      <td>0.118199</td>\n",
       "      <td>True</td>\n",
       "    </tr>\n",
       "  </tbody>\n",
       "</table>\n",
       "</div>"
      ],
      "text/plain": [
       "                tweet_id                                          jpg_url  \\\n",
       "985   707610948723478529  https://pbs.twimg.com/media/CdHwZd0VIAA4792.jpg   \n",
       "1487  782021823840026624  https://pbs.twimg.com/media/CdHwZd0VIAA4792.jpg   \n",
       "\n",
       "      img_num                p1   p1_conf  p1_dog              p2  p2_conf  \\\n",
       "985         1  golden_retriever  0.383223    True  cocker_spaniel  0.16593   \n",
       "1487        1  golden_retriever  0.383223    True  cocker_spaniel  0.16593   \n",
       "\n",
       "      p2_dog                        p3   p3_conf  p3_dog  \n",
       "985     True  Chesapeake_Bay_retriever  0.118199    True  \n",
       "1487    True  Chesapeake_Bay_retriever  0.118199    True  "
      ]
     },
     "execution_count": 22,
     "metadata": {},
     "output_type": "execute_result"
    }
   ],
   "source": [
    "image_predictions[image_predictions.jpg_url.duplicated()].jpg_url #duplicates\n",
    "image_predictions[image_predictions.jpg_url=='https://pbs.twimg.com/media/CdHwZd0VIAA4792.jpg']"
   ]
  },
  {
   "cell_type": "code",
   "execution_count": 23,
   "metadata": {},
   "outputs": [
    {
     "data": {
      "text/plain": [
       "0"
      ]
     },
     "execution_count": 23,
     "metadata": {},
     "output_type": "execute_result"
    }
   ],
   "source": [
    "sum(image_predictions.tweet_id.duplicated())"
   ]
  },
  {
   "cell_type": "code",
   "execution_count": 24,
   "metadata": {},
   "outputs": [
    {
     "data": {
      "text/html": [
       "<div>\n",
       "<style scoped>\n",
       "    .dataframe tbody tr th:only-of-type {\n",
       "        vertical-align: middle;\n",
       "    }\n",
       "\n",
       "    .dataframe tbody tr th {\n",
       "        vertical-align: top;\n",
       "    }\n",
       "\n",
       "    .dataframe thead th {\n",
       "        text-align: right;\n",
       "    }\n",
       "</style>\n",
       "<table border=\"1\" class=\"dataframe\">\n",
       "  <thead>\n",
       "    <tr style=\"text-align: right;\">\n",
       "      <th></th>\n",
       "      <th>tweet_id</th>\n",
       "      <th>in_reply_to_status_id</th>\n",
       "      <th>in_reply_to_user_id</th>\n",
       "      <th>timestamp</th>\n",
       "      <th>source</th>\n",
       "      <th>text</th>\n",
       "      <th>retweeted_status_id</th>\n",
       "      <th>retweeted_status_user_id</th>\n",
       "      <th>retweeted_status_timestamp</th>\n",
       "      <th>expanded_urls</th>\n",
       "      <th>rating_numerator</th>\n",
       "      <th>rating_denominator</th>\n",
       "      <th>name</th>\n",
       "      <th>doggo</th>\n",
       "      <th>floofer</th>\n",
       "      <th>pupper</th>\n",
       "      <th>puppo</th>\n",
       "    </tr>\n",
       "  </thead>\n",
       "  <tbody>\n",
       "    <tr>\n",
       "      <th>728</th>\n",
       "      <td>782021823840026624</td>\n",
       "      <td>NaN</td>\n",
       "      <td>NaN</td>\n",
       "      <td>2016-10-01 00:58:26 +0000</td>\n",
       "      <td>&lt;a href=\"http://twitter.com/download/iphone\" r...</td>\n",
       "      <td>RT @dog_rates: This is Harper. She scraped her...</td>\n",
       "      <td>7.076109e+17</td>\n",
       "      <td>4.196984e+09</td>\n",
       "      <td>2016-03-09 16:56:11 +0000</td>\n",
       "      <td>https://twitter.com/dog_rates/status/707610948...</td>\n",
       "      <td>12</td>\n",
       "      <td>10</td>\n",
       "      <td>Harper</td>\n",
       "      <td>None</td>\n",
       "      <td>None</td>\n",
       "      <td>None</td>\n",
       "      <td>None</td>\n",
       "    </tr>\n",
       "  </tbody>\n",
       "</table>\n",
       "</div>"
      ],
      "text/plain": [
       "               tweet_id  in_reply_to_status_id  in_reply_to_user_id  \\\n",
       "728  782021823840026624                    NaN                  NaN   \n",
       "\n",
       "                     timestamp  \\\n",
       "728  2016-10-01 00:58:26 +0000   \n",
       "\n",
       "                                                source  \\\n",
       "728  <a href=\"http://twitter.com/download/iphone\" r...   \n",
       "\n",
       "                                                  text  retweeted_status_id  \\\n",
       "728  RT @dog_rates: This is Harper. She scraped her...         7.076109e+17   \n",
       "\n",
       "     retweeted_status_user_id retweeted_status_timestamp  \\\n",
       "728              4.196984e+09  2016-03-09 16:56:11 +0000   \n",
       "\n",
       "                                         expanded_urls  rating_numerator  \\\n",
       "728  https://twitter.com/dog_rates/status/707610948...                12   \n",
       "\n",
       "     rating_denominator    name doggo floofer pupper puppo  \n",
       "728                  10  Harper  None    None   None  None  "
      ]
     },
     "execution_count": 24,
     "metadata": {},
     "output_type": "execute_result"
    }
   ],
   "source": [
    "twitter_archive[twitter_archive.tweet_id==782021823840026624] \n",
    "# tweet_id from the previous section, \n",
    "#as expected these 2 id(707610948723478529, 82021823840026624)\n",
    "# duplicates, one is true(which doesn't have 'retweeted_status_user_id') \n",
    "#and the second is retweeted."
   ]
  },
  {
   "cell_type": "code",
   "execution_count": 25,
   "metadata": {},
   "outputs": [
    {
     "name": "stdout",
     "output_type": "stream",
     "text": [
      "<class 'pandas.core.frame.DataFrame'>\n",
      "RangeIndex: 2075 entries, 0 to 2074\n",
      "Data columns (total 12 columns):\n",
      "tweet_id    2075 non-null int64\n",
      "jpg_url     2075 non-null object\n",
      "img_num     2075 non-null int64\n",
      "p1          2075 non-null object\n",
      "p1_conf     2075 non-null float64\n",
      "p1_dog      2075 non-null bool\n",
      "p2          2075 non-null object\n",
      "p2_conf     2075 non-null float64\n",
      "p2_dog      2075 non-null bool\n",
      "p3          2075 non-null object\n",
      "p3_conf     2075 non-null float64\n",
      "p3_dog      2075 non-null bool\n",
      "dtypes: bool(3), float64(3), int64(2), object(4)\n",
      "memory usage: 152.1+ KB\n"
     ]
    }
   ],
   "source": [
    "image_predictions.info()"
   ]
  },
  {
   "cell_type": "markdown",
   "metadata": {},
   "source": [
    "Change the type of p1,p2,p3 to categorical.<br>"
   ]
  },
  {
   "cell_type": "code",
   "execution_count": 26,
   "metadata": {},
   "outputs": [
    {
     "name": "stdout",
     "output_type": "stream",
     "text": [
      "<class 'pandas.core.frame.DataFrame'>\n",
      "RangeIndex: 2356 entries, 0 to 2355\n",
      "Data columns (total 17 columns):\n",
      "tweet_id                      2356 non-null int64\n",
      "in_reply_to_status_id         78 non-null float64\n",
      "in_reply_to_user_id           78 non-null float64\n",
      "timestamp                     2356 non-null object\n",
      "source                        2356 non-null object\n",
      "text                          2356 non-null object\n",
      "retweeted_status_id           181 non-null float64\n",
      "retweeted_status_user_id      181 non-null float64\n",
      "retweeted_status_timestamp    181 non-null object\n",
      "expanded_urls                 2297 non-null object\n",
      "rating_numerator              2356 non-null int64\n",
      "rating_denominator            2356 non-null int64\n",
      "name                          2356 non-null object\n",
      "doggo                         2356 non-null object\n",
      "floofer                       2356 non-null object\n",
      "pupper                        2356 non-null object\n",
      "puppo                         2356 non-null object\n",
      "dtypes: float64(4), int64(3), object(10)\n",
      "memory usage: 313.0+ KB\n"
     ]
    }
   ],
   "source": [
    "twitter_archive.info()"
   ]
  },
  {
   "cell_type": "markdown",
   "metadata": {},
   "source": [
    "Change the type of doggom floofer, pupper, puppo to categorical"
   ]
  },
  {
   "cell_type": "markdown",
   "metadata": {},
   "source": [
    "#### Quality\n",
    "##### `twitter_archive` table\n",
    "- The denominator should be 10\n",
    "- The numerator should be between 1 and 14\n",
    "- Invalid names such as \"a\", \"an\", \"old\", \"infiriating\", etc.\n",
    "- Split \"text\" column into 2 columns: original \"text\" and extracted url \"quick_url\"\n",
    "- tweet_id's with in_reply_to_status_id are just replies to tweets(we'll remove these rows)\n",
    "- remove rows with \"retweeted_status_id\", they are retweets.\n",
    "- remove tweets without expanded_urls\n",
    "- remove empty columns(retweeted_status_id, etc)\n",
    "- convert doggo, floofer, pupper, puppo to categorical.\n",
    "- Erroneous datatype: timestamp, tweet_id.\n",
    "- Some numerators are float but the data includes only integers.\n",
    "- *<b>optional</b>* we could convert numerator_rating/denominator ratings to categorical as we won't perform any mathematical operations with them.\n",
    "\n",
    "\n",
    "##### `image_predictions` table\n",
    "- Invalid values for p1, p2, p3(dog breeds) such scorpion, shopping backed etc.\n",
    "- Change the type of p1,p2,p3 to categorical.\n",
    "- 66 duplicated image url \n",
    "\n",
    "\n",
    "##### `tweet_scores` table\n",
    "- 19 values weren't received from Twitter. "
   ]
  },
  {
   "cell_type": "markdown",
   "metadata": {},
   "source": [
    "#### Tidiness\n",
    "- Convert doggo, floofer, pupper, puppo into one column \"stage\" in `twitter_archive table`.\n",
    "- Join 2 tables(tweet_scores, image_predictions) into a table contains retweet_count, favorite_count, image predictions."
   ]
  },
  {
   "cell_type": "markdown",
   "metadata": {},
   "source": [
    "<b>Clean</b>"
   ]
  },
  {
   "cell_type": "code",
   "execution_count": 27,
   "metadata": {},
   "outputs": [],
   "source": [
    "twitter_archive_clean=twitter_archive.copy() #creating copy of each data set.\n",
    "image_predictions_clean=image_predictions.copy()\n",
    "tweet_scores_clean=tweet_scores.copy()"
   ]
  },
  {
   "cell_type": "markdown",
   "metadata": {},
   "source": [
    "<b>Define</b>"
   ]
  },
  {
   "cell_type": "markdown",
   "metadata": {},
   "source": [
    "Keep the data for only ratings with denominators equal to 10."
   ]
  },
  {
   "cell_type": "markdown",
   "metadata": {},
   "source": [
    "<b>Code</b>"
   ]
  },
  {
   "cell_type": "code",
   "execution_count": 28,
   "metadata": {},
   "outputs": [],
   "source": [
    "twitter_archive_clean=twitter_archive_clean[twitter_archive_clean.rating_denominator==10]"
   ]
  },
  {
   "cell_type": "markdown",
   "metadata": {},
   "source": [
    "<b>Test</b>"
   ]
  },
  {
   "cell_type": "code",
   "execution_count": 29,
   "metadata": {},
   "outputs": [
    {
     "data": {
      "text/html": [
       "<div>\n",
       "<style scoped>\n",
       "    .dataframe tbody tr th:only-of-type {\n",
       "        vertical-align: middle;\n",
       "    }\n",
       "\n",
       "    .dataframe tbody tr th {\n",
       "        vertical-align: top;\n",
       "    }\n",
       "\n",
       "    .dataframe thead th {\n",
       "        text-align: right;\n",
       "    }\n",
       "</style>\n",
       "<table border=\"1\" class=\"dataframe\">\n",
       "  <thead>\n",
       "    <tr style=\"text-align: right;\">\n",
       "      <th></th>\n",
       "      <th>tweet_id</th>\n",
       "      <th>in_reply_to_status_id</th>\n",
       "      <th>in_reply_to_user_id</th>\n",
       "      <th>timestamp</th>\n",
       "      <th>source</th>\n",
       "      <th>text</th>\n",
       "      <th>retweeted_status_id</th>\n",
       "      <th>retweeted_status_user_id</th>\n",
       "      <th>retweeted_status_timestamp</th>\n",
       "      <th>expanded_urls</th>\n",
       "      <th>rating_numerator</th>\n",
       "      <th>rating_denominator</th>\n",
       "      <th>name</th>\n",
       "      <th>doggo</th>\n",
       "      <th>floofer</th>\n",
       "      <th>pupper</th>\n",
       "      <th>puppo</th>\n",
       "    </tr>\n",
       "  </thead>\n",
       "  <tbody>\n",
       "  </tbody>\n",
       "</table>\n",
       "</div>"
      ],
      "text/plain": [
       "Empty DataFrame\n",
       "Columns: [tweet_id, in_reply_to_status_id, in_reply_to_user_id, timestamp, source, text, retweeted_status_id, retweeted_status_user_id, retweeted_status_timestamp, expanded_urls, rating_numerator, rating_denominator, name, doggo, floofer, pupper, puppo]\n",
       "Index: []"
      ]
     },
     "execution_count": 29,
     "metadata": {},
     "output_type": "execute_result"
    }
   ],
   "source": [
    "twitter_archive_clean[twitter_archive_clean.rating_denominator != 10]"
   ]
  },
  {
   "cell_type": "markdown",
   "metadata": {},
   "source": [
    "<b>Define</b>"
   ]
  },
  {
   "cell_type": "markdown",
   "metadata": {},
   "source": [
    "According to their rating system, the max rating is 14/10.<br>\n",
    "Remove rows where rating greater than 14."
   ]
  },
  {
   "cell_type": "markdown",
   "metadata": {},
   "source": [
    "<b>Code</b>"
   ]
  },
  {
   "cell_type": "code",
   "execution_count": 30,
   "metadata": {},
   "outputs": [],
   "source": [
    "twitter_archive_clean=twitter_archive_clean[twitter_archive_clean.rating_numerator<15]"
   ]
  },
  {
   "cell_type": "markdown",
   "metadata": {},
   "source": [
    "<b>Test</b>"
   ]
  },
  {
   "cell_type": "code",
   "execution_count": 31,
   "metadata": {},
   "outputs": [
    {
     "data": {
      "text/html": [
       "<div>\n",
       "<style scoped>\n",
       "    .dataframe tbody tr th:only-of-type {\n",
       "        vertical-align: middle;\n",
       "    }\n",
       "\n",
       "    .dataframe tbody tr th {\n",
       "        vertical-align: top;\n",
       "    }\n",
       "\n",
       "    .dataframe thead th {\n",
       "        text-align: right;\n",
       "    }\n",
       "</style>\n",
       "<table border=\"1\" class=\"dataframe\">\n",
       "  <thead>\n",
       "    <tr style=\"text-align: right;\">\n",
       "      <th></th>\n",
       "      <th>tweet_id</th>\n",
       "      <th>in_reply_to_status_id</th>\n",
       "      <th>in_reply_to_user_id</th>\n",
       "      <th>timestamp</th>\n",
       "      <th>source</th>\n",
       "      <th>text</th>\n",
       "      <th>retweeted_status_id</th>\n",
       "      <th>retweeted_status_user_id</th>\n",
       "      <th>retweeted_status_timestamp</th>\n",
       "      <th>expanded_urls</th>\n",
       "      <th>rating_numerator</th>\n",
       "      <th>rating_denominator</th>\n",
       "      <th>name</th>\n",
       "      <th>doggo</th>\n",
       "      <th>floofer</th>\n",
       "      <th>pupper</th>\n",
       "      <th>puppo</th>\n",
       "    </tr>\n",
       "  </thead>\n",
       "  <tbody>\n",
       "  </tbody>\n",
       "</table>\n",
       "</div>"
      ],
      "text/plain": [
       "Empty DataFrame\n",
       "Columns: [tweet_id, in_reply_to_status_id, in_reply_to_user_id, timestamp, source, text, retweeted_status_id, retweeted_status_user_id, retweeted_status_timestamp, expanded_urls, rating_numerator, rating_denominator, name, doggo, floofer, pupper, puppo]\n",
       "Index: []"
      ]
     },
     "execution_count": 31,
     "metadata": {},
     "output_type": "execute_result"
    }
   ],
   "source": [
    "twitter_archive_clean[twitter_archive_clean.rating_denominator > 14]"
   ]
  },
  {
   "cell_type": "markdown",
   "metadata": {},
   "source": [
    "<b>Define</b>"
   ]
  },
  {
   "cell_type": "markdown",
   "metadata": {},
   "source": [
    "Find incorrect names and replace them with None."
   ]
  },
  {
   "cell_type": "markdown",
   "metadata": {},
   "source": [
    "<b>Code</b>"
   ]
  },
  {
   "cell_type": "code",
   "execution_count": 32,
   "metadata": {},
   "outputs": [],
   "source": [
    "names=twitter_archive_clean.name.unique() # \"names\" contains all dog names\n",
    "incorrect_names=[]\n",
    "for name in names: #check if a name is lowercase, a name will be added to the \"incorrect names\"\n",
    "    if name.islower()==True:\n",
    "        incorrect_names.append(name)\n",
    "\n",
    "def convert_names(name):\n",
    "    #if a name in incorrect_names, a name will be replaced with \"None\"\n",
    "    if name in incorrect_names:\n",
    "        return \"None\"\n",
    "    return name\n",
    "#apply the fucntion convert_names to 'name' column.\n",
    "twitter_archive_clean['name']=twitter_archive_clean['name'].apply(convert_names)"
   ]
  },
  {
   "cell_type": "markdown",
   "metadata": {},
   "source": [
    "<b>Test</b>"
   ]
  },
  {
   "cell_type": "code",
   "execution_count": 33,
   "metadata": {},
   "outputs": [
    {
     "data": {
      "text/plain": [
       "0"
      ]
     },
     "execution_count": 33,
     "metadata": {},
     "output_type": "execute_result"
    }
   ],
   "source": [
    "sum(twitter_archive_clean['name'].value_counts().isin(incorrect_names))"
   ]
  },
  {
   "cell_type": "markdown",
   "metadata": {},
   "source": [
    "<b>Define</b>"
   ]
  },
  {
   "cell_type": "markdown",
   "metadata": {},
   "source": [
    "Split \"text\" column into 2 columns: original \"text\" and extracted url \"quick_url\""
   ]
  },
  {
   "cell_type": "markdown",
   "metadata": {},
   "source": [
    "<b>Code</b>"
   ]
  },
  {
   "cell_type": "code",
   "execution_count": 34,
   "metadata": {},
   "outputs": [],
   "source": [
    "twitter_archive_clean['quick_url'] = twitter_archive_clean.text.str.extract('(https.+)', expand=True)\n",
    "#extract urls from the texts"
   ]
  },
  {
   "cell_type": "markdown",
   "metadata": {},
   "source": [
    "<b>Test</b>"
   ]
  },
  {
   "cell_type": "code",
   "execution_count": 35,
   "metadata": {},
   "outputs": [
    {
     "data": {
      "text/html": [
       "<div>\n",
       "<style scoped>\n",
       "    .dataframe tbody tr th:only-of-type {\n",
       "        vertical-align: middle;\n",
       "    }\n",
       "\n",
       "    .dataframe tbody tr th {\n",
       "        vertical-align: top;\n",
       "    }\n",
       "\n",
       "    .dataframe thead th {\n",
       "        text-align: right;\n",
       "    }\n",
       "</style>\n",
       "<table border=\"1\" class=\"dataframe\">\n",
       "  <thead>\n",
       "    <tr style=\"text-align: right;\">\n",
       "      <th></th>\n",
       "      <th>tweet_id</th>\n",
       "      <th>in_reply_to_status_id</th>\n",
       "      <th>in_reply_to_user_id</th>\n",
       "      <th>timestamp</th>\n",
       "      <th>source</th>\n",
       "      <th>text</th>\n",
       "      <th>retweeted_status_id</th>\n",
       "      <th>retweeted_status_user_id</th>\n",
       "      <th>retweeted_status_timestamp</th>\n",
       "      <th>expanded_urls</th>\n",
       "      <th>rating_numerator</th>\n",
       "      <th>rating_denominator</th>\n",
       "      <th>name</th>\n",
       "      <th>doggo</th>\n",
       "      <th>floofer</th>\n",
       "      <th>pupper</th>\n",
       "      <th>puppo</th>\n",
       "      <th>quick_url</th>\n",
       "    </tr>\n",
       "  </thead>\n",
       "  <tbody>\n",
       "    <tr>\n",
       "      <th>0</th>\n",
       "      <td>892420643555336193</td>\n",
       "      <td>NaN</td>\n",
       "      <td>NaN</td>\n",
       "      <td>2017-08-01 16:23:56 +0000</td>\n",
       "      <td>&lt;a href=\"http://twitter.com/download/iphone\" r...</td>\n",
       "      <td>This is Phineas. He's a mystical boy. Only eve...</td>\n",
       "      <td>NaN</td>\n",
       "      <td>NaN</td>\n",
       "      <td>NaN</td>\n",
       "      <td>https://twitter.com/dog_rates/status/892420643...</td>\n",
       "      <td>13</td>\n",
       "      <td>10</td>\n",
       "      <td>Phineas</td>\n",
       "      <td>None</td>\n",
       "      <td>None</td>\n",
       "      <td>None</td>\n",
       "      <td>None</td>\n",
       "      <td>https://t.co/MgUWQ76dJU</td>\n",
       "    </tr>\n",
       "    <tr>\n",
       "      <th>1</th>\n",
       "      <td>892177421306343426</td>\n",
       "      <td>NaN</td>\n",
       "      <td>NaN</td>\n",
       "      <td>2017-08-01 00:17:27 +0000</td>\n",
       "      <td>&lt;a href=\"http://twitter.com/download/iphone\" r...</td>\n",
       "      <td>This is Tilly. She's just checking pup on you....</td>\n",
       "      <td>NaN</td>\n",
       "      <td>NaN</td>\n",
       "      <td>NaN</td>\n",
       "      <td>https://twitter.com/dog_rates/status/892177421...</td>\n",
       "      <td>13</td>\n",
       "      <td>10</td>\n",
       "      <td>Tilly</td>\n",
       "      <td>None</td>\n",
       "      <td>None</td>\n",
       "      <td>None</td>\n",
       "      <td>None</td>\n",
       "      <td>https://t.co/0Xxu71qeIV</td>\n",
       "    </tr>\n",
       "    <tr>\n",
       "      <th>2</th>\n",
       "      <td>891815181378084864</td>\n",
       "      <td>NaN</td>\n",
       "      <td>NaN</td>\n",
       "      <td>2017-07-31 00:18:03 +0000</td>\n",
       "      <td>&lt;a href=\"http://twitter.com/download/iphone\" r...</td>\n",
       "      <td>This is Archie. He is a rare Norwegian Pouncin...</td>\n",
       "      <td>NaN</td>\n",
       "      <td>NaN</td>\n",
       "      <td>NaN</td>\n",
       "      <td>https://twitter.com/dog_rates/status/891815181...</td>\n",
       "      <td>12</td>\n",
       "      <td>10</td>\n",
       "      <td>Archie</td>\n",
       "      <td>None</td>\n",
       "      <td>None</td>\n",
       "      <td>None</td>\n",
       "      <td>None</td>\n",
       "      <td>https://t.co/wUnZnhtVJB</td>\n",
       "    </tr>\n",
       "    <tr>\n",
       "      <th>3</th>\n",
       "      <td>891689557279858688</td>\n",
       "      <td>NaN</td>\n",
       "      <td>NaN</td>\n",
       "      <td>2017-07-30 15:58:51 +0000</td>\n",
       "      <td>&lt;a href=\"http://twitter.com/download/iphone\" r...</td>\n",
       "      <td>This is Darla. She commenced a snooze mid meal...</td>\n",
       "      <td>NaN</td>\n",
       "      <td>NaN</td>\n",
       "      <td>NaN</td>\n",
       "      <td>https://twitter.com/dog_rates/status/891689557...</td>\n",
       "      <td>13</td>\n",
       "      <td>10</td>\n",
       "      <td>Darla</td>\n",
       "      <td>None</td>\n",
       "      <td>None</td>\n",
       "      <td>None</td>\n",
       "      <td>None</td>\n",
       "      <td>https://t.co/tD36da7qLQ</td>\n",
       "    </tr>\n",
       "    <tr>\n",
       "      <th>4</th>\n",
       "      <td>891327558926688256</td>\n",
       "      <td>NaN</td>\n",
       "      <td>NaN</td>\n",
       "      <td>2017-07-29 16:00:24 +0000</td>\n",
       "      <td>&lt;a href=\"http://twitter.com/download/iphone\" r...</td>\n",
       "      <td>This is Franklin. He would like you to stop ca...</td>\n",
       "      <td>NaN</td>\n",
       "      <td>NaN</td>\n",
       "      <td>NaN</td>\n",
       "      <td>https://twitter.com/dog_rates/status/891327558...</td>\n",
       "      <td>12</td>\n",
       "      <td>10</td>\n",
       "      <td>Franklin</td>\n",
       "      <td>None</td>\n",
       "      <td>None</td>\n",
       "      <td>None</td>\n",
       "      <td>None</td>\n",
       "      <td>https://t.co/AtUZn91f7f</td>\n",
       "    </tr>\n",
       "  </tbody>\n",
       "</table>\n",
       "</div>"
      ],
      "text/plain": [
       "             tweet_id  in_reply_to_status_id  in_reply_to_user_id  \\\n",
       "0  892420643555336193                    NaN                  NaN   \n",
       "1  892177421306343426                    NaN                  NaN   \n",
       "2  891815181378084864                    NaN                  NaN   \n",
       "3  891689557279858688                    NaN                  NaN   \n",
       "4  891327558926688256                    NaN                  NaN   \n",
       "\n",
       "                   timestamp  \\\n",
       "0  2017-08-01 16:23:56 +0000   \n",
       "1  2017-08-01 00:17:27 +0000   \n",
       "2  2017-07-31 00:18:03 +0000   \n",
       "3  2017-07-30 15:58:51 +0000   \n",
       "4  2017-07-29 16:00:24 +0000   \n",
       "\n",
       "                                              source  \\\n",
       "0  <a href=\"http://twitter.com/download/iphone\" r...   \n",
       "1  <a href=\"http://twitter.com/download/iphone\" r...   \n",
       "2  <a href=\"http://twitter.com/download/iphone\" r...   \n",
       "3  <a href=\"http://twitter.com/download/iphone\" r...   \n",
       "4  <a href=\"http://twitter.com/download/iphone\" r...   \n",
       "\n",
       "                                                text  retweeted_status_id  \\\n",
       "0  This is Phineas. He's a mystical boy. Only eve...                  NaN   \n",
       "1  This is Tilly. She's just checking pup on you....                  NaN   \n",
       "2  This is Archie. He is a rare Norwegian Pouncin...                  NaN   \n",
       "3  This is Darla. She commenced a snooze mid meal...                  NaN   \n",
       "4  This is Franklin. He would like you to stop ca...                  NaN   \n",
       "\n",
       "   retweeted_status_user_id retweeted_status_timestamp  \\\n",
       "0                       NaN                        NaN   \n",
       "1                       NaN                        NaN   \n",
       "2                       NaN                        NaN   \n",
       "3                       NaN                        NaN   \n",
       "4                       NaN                        NaN   \n",
       "\n",
       "                                       expanded_urls  rating_numerator  \\\n",
       "0  https://twitter.com/dog_rates/status/892420643...                13   \n",
       "1  https://twitter.com/dog_rates/status/892177421...                13   \n",
       "2  https://twitter.com/dog_rates/status/891815181...                12   \n",
       "3  https://twitter.com/dog_rates/status/891689557...                13   \n",
       "4  https://twitter.com/dog_rates/status/891327558...                12   \n",
       "\n",
       "   rating_denominator      name doggo floofer pupper puppo  \\\n",
       "0                  10   Phineas  None    None   None  None   \n",
       "1                  10     Tilly  None    None   None  None   \n",
       "2                  10    Archie  None    None   None  None   \n",
       "3                  10     Darla  None    None   None  None   \n",
       "4                  10  Franklin  None    None   None  None   \n",
       "\n",
       "                 quick_url  \n",
       "0  https://t.co/MgUWQ76dJU  \n",
       "1  https://t.co/0Xxu71qeIV  \n",
       "2  https://t.co/wUnZnhtVJB  \n",
       "3  https://t.co/tD36da7qLQ  \n",
       "4  https://t.co/AtUZn91f7f  "
      ]
     },
     "execution_count": 35,
     "metadata": {},
     "output_type": "execute_result"
    }
   ],
   "source": [
    "twitter_archive_clean.head()"
   ]
  },
  {
   "cell_type": "markdown",
   "metadata": {},
   "source": [
    "<b>Define</b>"
   ]
  },
  {
   "cell_type": "markdown",
   "metadata": {},
   "source": [
    "tweet_id's with in_reply_to_status_id are just replies to tweets<br>\n",
    "Remove these rows."
   ]
  },
  {
   "cell_type": "markdown",
   "metadata": {},
   "source": [
    "<b>Code</b>"
   ]
  },
  {
   "cell_type": "code",
   "execution_count": 36,
   "metadata": {},
   "outputs": [],
   "source": [
    "twitter_archive_clean=twitter_archive_clean[twitter_archive_clean['in_reply_to_status_id'].isnull()]"
   ]
  },
  {
   "cell_type": "markdown",
   "metadata": {},
   "source": [
    "<b>Test</b>"
   ]
  },
  {
   "cell_type": "code",
   "execution_count": 37,
   "metadata": {},
   "outputs": [
    {
     "data": {
      "text/html": [
       "<div>\n",
       "<style scoped>\n",
       "    .dataframe tbody tr th:only-of-type {\n",
       "        vertical-align: middle;\n",
       "    }\n",
       "\n",
       "    .dataframe tbody tr th {\n",
       "        vertical-align: top;\n",
       "    }\n",
       "\n",
       "    .dataframe thead th {\n",
       "        text-align: right;\n",
       "    }\n",
       "</style>\n",
       "<table border=\"1\" class=\"dataframe\">\n",
       "  <thead>\n",
       "    <tr style=\"text-align: right;\">\n",
       "      <th></th>\n",
       "      <th>tweet_id</th>\n",
       "      <th>in_reply_to_status_id</th>\n",
       "      <th>in_reply_to_user_id</th>\n",
       "      <th>timestamp</th>\n",
       "      <th>source</th>\n",
       "      <th>text</th>\n",
       "      <th>retweeted_status_id</th>\n",
       "      <th>retweeted_status_user_id</th>\n",
       "      <th>retweeted_status_timestamp</th>\n",
       "      <th>expanded_urls</th>\n",
       "      <th>rating_numerator</th>\n",
       "      <th>rating_denominator</th>\n",
       "      <th>name</th>\n",
       "      <th>doggo</th>\n",
       "      <th>floofer</th>\n",
       "      <th>pupper</th>\n",
       "      <th>puppo</th>\n",
       "      <th>quick_url</th>\n",
       "    </tr>\n",
       "  </thead>\n",
       "  <tbody>\n",
       "  </tbody>\n",
       "</table>\n",
       "</div>"
      ],
      "text/plain": [
       "Empty DataFrame\n",
       "Columns: [tweet_id, in_reply_to_status_id, in_reply_to_user_id, timestamp, source, text, retweeted_status_id, retweeted_status_user_id, retweeted_status_timestamp, expanded_urls, rating_numerator, rating_denominator, name, doggo, floofer, pupper, puppo, quick_url]\n",
       "Index: []"
      ]
     },
     "execution_count": 37,
     "metadata": {},
     "output_type": "execute_result"
    }
   ],
   "source": [
    "twitter_archive_clean[~twitter_archive_clean['in_reply_to_status_id'].isnull()]"
   ]
  },
  {
   "cell_type": "markdown",
   "metadata": {},
   "source": [
    "<b>Define</b>"
   ]
  },
  {
   "cell_type": "markdown",
   "metadata": {},
   "source": [
    "Remove rows with \"retweeted_status_id\", they are retweets."
   ]
  },
  {
   "cell_type": "markdown",
   "metadata": {},
   "source": [
    "<b>Code</b>"
   ]
  },
  {
   "cell_type": "code",
   "execution_count": 38,
   "metadata": {},
   "outputs": [],
   "source": [
    "twitter_archive_clean=twitter_archive_clean[twitter_archive_clean['retweeted_status_id'].isnull()]"
   ]
  },
  {
   "cell_type": "markdown",
   "metadata": {},
   "source": [
    "<b>Test</b>"
   ]
  },
  {
   "cell_type": "code",
   "execution_count": 39,
   "metadata": {},
   "outputs": [
    {
     "data": {
      "text/html": [
       "<div>\n",
       "<style scoped>\n",
       "    .dataframe tbody tr th:only-of-type {\n",
       "        vertical-align: middle;\n",
       "    }\n",
       "\n",
       "    .dataframe tbody tr th {\n",
       "        vertical-align: top;\n",
       "    }\n",
       "\n",
       "    .dataframe thead th {\n",
       "        text-align: right;\n",
       "    }\n",
       "</style>\n",
       "<table border=\"1\" class=\"dataframe\">\n",
       "  <thead>\n",
       "    <tr style=\"text-align: right;\">\n",
       "      <th></th>\n",
       "      <th>tweet_id</th>\n",
       "      <th>in_reply_to_status_id</th>\n",
       "      <th>in_reply_to_user_id</th>\n",
       "      <th>timestamp</th>\n",
       "      <th>source</th>\n",
       "      <th>text</th>\n",
       "      <th>retweeted_status_id</th>\n",
       "      <th>retweeted_status_user_id</th>\n",
       "      <th>retweeted_status_timestamp</th>\n",
       "      <th>expanded_urls</th>\n",
       "      <th>rating_numerator</th>\n",
       "      <th>rating_denominator</th>\n",
       "      <th>name</th>\n",
       "      <th>doggo</th>\n",
       "      <th>floofer</th>\n",
       "      <th>pupper</th>\n",
       "      <th>puppo</th>\n",
       "      <th>quick_url</th>\n",
       "    </tr>\n",
       "  </thead>\n",
       "  <tbody>\n",
       "  </tbody>\n",
       "</table>\n",
       "</div>"
      ],
      "text/plain": [
       "Empty DataFrame\n",
       "Columns: [tweet_id, in_reply_to_status_id, in_reply_to_user_id, timestamp, source, text, retweeted_status_id, retweeted_status_user_id, retweeted_status_timestamp, expanded_urls, rating_numerator, rating_denominator, name, doggo, floofer, pupper, puppo, quick_url]\n",
       "Index: []"
      ]
     },
     "execution_count": 39,
     "metadata": {},
     "output_type": "execute_result"
    }
   ],
   "source": [
    "twitter_archive_clean[~twitter_archive_clean['retweeted_status_id'].isnull()]"
   ]
  },
  {
   "cell_type": "markdown",
   "metadata": {},
   "source": [
    "<b>Define</b>"
   ]
  },
  {
   "cell_type": "markdown",
   "metadata": {},
   "source": [
    "3 missing values of expanded urls(2072 instead of 2075)"
   ]
  },
  {
   "cell_type": "code",
   "execution_count": 40,
   "metadata": {},
   "outputs": [
    {
     "data": {
      "text/html": [
       "<div>\n",
       "<style scoped>\n",
       "    .dataframe tbody tr th:only-of-type {\n",
       "        vertical-align: middle;\n",
       "    }\n",
       "\n",
       "    .dataframe tbody tr th {\n",
       "        vertical-align: top;\n",
       "    }\n",
       "\n",
       "    .dataframe thead th {\n",
       "        text-align: right;\n",
       "    }\n",
       "</style>\n",
       "<table border=\"1\" class=\"dataframe\">\n",
       "  <thead>\n",
       "    <tr style=\"text-align: right;\">\n",
       "      <th></th>\n",
       "      <th>tweet_id</th>\n",
       "      <th>in_reply_to_status_id</th>\n",
       "      <th>in_reply_to_user_id</th>\n",
       "      <th>timestamp</th>\n",
       "      <th>source</th>\n",
       "      <th>text</th>\n",
       "      <th>retweeted_status_id</th>\n",
       "      <th>retweeted_status_user_id</th>\n",
       "      <th>retweeted_status_timestamp</th>\n",
       "      <th>expanded_urls</th>\n",
       "      <th>rating_numerator</th>\n",
       "      <th>rating_denominator</th>\n",
       "      <th>name</th>\n",
       "      <th>doggo</th>\n",
       "      <th>floofer</th>\n",
       "      <th>pupper</th>\n",
       "      <th>puppo</th>\n",
       "      <th>quick_url</th>\n",
       "    </tr>\n",
       "  </thead>\n",
       "  <tbody>\n",
       "    <tr>\n",
       "      <th>375</th>\n",
       "      <td>828361771580813312</td>\n",
       "      <td>NaN</td>\n",
       "      <td>NaN</td>\n",
       "      <td>2017-02-05 21:56:51 +0000</td>\n",
       "      <td>&lt;a href=\"http://twitter.com\" rel=\"nofollow\"&gt;Tw...</td>\n",
       "      <td>Beebop and Doobert should start a band 12/10 w...</td>\n",
       "      <td>NaN</td>\n",
       "      <td>NaN</td>\n",
       "      <td>NaN</td>\n",
       "      <td>NaN</td>\n",
       "      <td>12</td>\n",
       "      <td>10</td>\n",
       "      <td>None</td>\n",
       "      <td>None</td>\n",
       "      <td>None</td>\n",
       "      <td>None</td>\n",
       "      <td>None</td>\n",
       "      <td>NaN</td>\n",
       "    </tr>\n",
       "    <tr>\n",
       "      <th>707</th>\n",
       "      <td>785515384317313025</td>\n",
       "      <td>NaN</td>\n",
       "      <td>NaN</td>\n",
       "      <td>2016-10-10 16:20:36 +0000</td>\n",
       "      <td>&lt;a href=\"http://twitter.com/download/iphone\" r...</td>\n",
       "      <td>Today, 10/10, should be National Dog Rates Day</td>\n",
       "      <td>NaN</td>\n",
       "      <td>NaN</td>\n",
       "      <td>NaN</td>\n",
       "      <td>NaN</td>\n",
       "      <td>10</td>\n",
       "      <td>10</td>\n",
       "      <td>None</td>\n",
       "      <td>None</td>\n",
       "      <td>None</td>\n",
       "      <td>None</td>\n",
       "      <td>None</td>\n",
       "      <td>NaN</td>\n",
       "    </tr>\n",
       "    <tr>\n",
       "      <th>1445</th>\n",
       "      <td>696518437233913856</td>\n",
       "      <td>NaN</td>\n",
       "      <td>NaN</td>\n",
       "      <td>2016-02-08 02:18:30 +0000</td>\n",
       "      <td>&lt;a href=\"http://twitter.com/download/iphone\" r...</td>\n",
       "      <td>Oh my god 10/10 for every little hot dog pupper</td>\n",
       "      <td>NaN</td>\n",
       "      <td>NaN</td>\n",
       "      <td>NaN</td>\n",
       "      <td>NaN</td>\n",
       "      <td>10</td>\n",
       "      <td>10</td>\n",
       "      <td>None</td>\n",
       "      <td>None</td>\n",
       "      <td>None</td>\n",
       "      <td>pupper</td>\n",
       "      <td>None</td>\n",
       "      <td>NaN</td>\n",
       "    </tr>\n",
       "  </tbody>\n",
       "</table>\n",
       "</div>"
      ],
      "text/plain": [
       "                tweet_id  in_reply_to_status_id  in_reply_to_user_id  \\\n",
       "375   828361771580813312                    NaN                  NaN   \n",
       "707   785515384317313025                    NaN                  NaN   \n",
       "1445  696518437233913856                    NaN                  NaN   \n",
       "\n",
       "                      timestamp  \\\n",
       "375   2017-02-05 21:56:51 +0000   \n",
       "707   2016-10-10 16:20:36 +0000   \n",
       "1445  2016-02-08 02:18:30 +0000   \n",
       "\n",
       "                                                 source  \\\n",
       "375   <a href=\"http://twitter.com\" rel=\"nofollow\">Tw...   \n",
       "707   <a href=\"http://twitter.com/download/iphone\" r...   \n",
       "1445  <a href=\"http://twitter.com/download/iphone\" r...   \n",
       "\n",
       "                                                   text  retweeted_status_id  \\\n",
       "375   Beebop and Doobert should start a band 12/10 w...                  NaN   \n",
       "707      Today, 10/10, should be National Dog Rates Day                  NaN   \n",
       "1445    Oh my god 10/10 for every little hot dog pupper                  NaN   \n",
       "\n",
       "      retweeted_status_user_id retweeted_status_timestamp expanded_urls  \\\n",
       "375                        NaN                        NaN           NaN   \n",
       "707                        NaN                        NaN           NaN   \n",
       "1445                       NaN                        NaN           NaN   \n",
       "\n",
       "      rating_numerator  rating_denominator  name doggo floofer  pupper puppo  \\\n",
       "375                 12                  10  None  None    None    None  None   \n",
       "707                 10                  10  None  None    None    None  None   \n",
       "1445                10                  10  None  None    None  pupper  None   \n",
       "\n",
       "     quick_url  \n",
       "375        NaN  \n",
       "707        NaN  \n",
       "1445       NaN  "
      ]
     },
     "execution_count": 40,
     "metadata": {},
     "output_type": "execute_result"
    }
   ],
   "source": [
    "twitter_archive_clean[twitter_archive_clean.expanded_urls.isnull()]"
   ]
  },
  {
   "cell_type": "markdown",
   "metadata": {},
   "source": [
    "These tweet_id not the true tweets, no images, just notification about something.<br>\n",
    "Remove these lines."
   ]
  },
  {
   "cell_type": "markdown",
   "metadata": {},
   "source": [
    "<b>Code</b>"
   ]
  },
  {
   "cell_type": "code",
   "execution_count": 41,
   "metadata": {},
   "outputs": [],
   "source": [
    "twitter_archive_clean=twitter_archive_clean[~twitter_archive_clean.expanded_urls.isnull()]"
   ]
  },
  {
   "cell_type": "markdown",
   "metadata": {},
   "source": [
    "<b>Test</b>"
   ]
  },
  {
   "cell_type": "code",
   "execution_count": 42,
   "metadata": {},
   "outputs": [
    {
     "data": {
      "text/html": [
       "<div>\n",
       "<style scoped>\n",
       "    .dataframe tbody tr th:only-of-type {\n",
       "        vertical-align: middle;\n",
       "    }\n",
       "\n",
       "    .dataframe tbody tr th {\n",
       "        vertical-align: top;\n",
       "    }\n",
       "\n",
       "    .dataframe thead th {\n",
       "        text-align: right;\n",
       "    }\n",
       "</style>\n",
       "<table border=\"1\" class=\"dataframe\">\n",
       "  <thead>\n",
       "    <tr style=\"text-align: right;\">\n",
       "      <th></th>\n",
       "      <th>tweet_id</th>\n",
       "      <th>in_reply_to_status_id</th>\n",
       "      <th>in_reply_to_user_id</th>\n",
       "      <th>timestamp</th>\n",
       "      <th>source</th>\n",
       "      <th>text</th>\n",
       "      <th>retweeted_status_id</th>\n",
       "      <th>retweeted_status_user_id</th>\n",
       "      <th>retweeted_status_timestamp</th>\n",
       "      <th>expanded_urls</th>\n",
       "      <th>rating_numerator</th>\n",
       "      <th>rating_denominator</th>\n",
       "      <th>name</th>\n",
       "      <th>doggo</th>\n",
       "      <th>floofer</th>\n",
       "      <th>pupper</th>\n",
       "      <th>puppo</th>\n",
       "      <th>quick_url</th>\n",
       "    </tr>\n",
       "  </thead>\n",
       "  <tbody>\n",
       "  </tbody>\n",
       "</table>\n",
       "</div>"
      ],
      "text/plain": [
       "Empty DataFrame\n",
       "Columns: [tweet_id, in_reply_to_status_id, in_reply_to_user_id, timestamp, source, text, retweeted_status_id, retweeted_status_user_id, retweeted_status_timestamp, expanded_urls, rating_numerator, rating_denominator, name, doggo, floofer, pupper, puppo, quick_url]\n",
       "Index: []"
      ]
     },
     "execution_count": 42,
     "metadata": {},
     "output_type": "execute_result"
    }
   ],
   "source": [
    "twitter_archive_clean[twitter_archive_clean.expanded_urls.isnull()]"
   ]
  },
  {
   "cell_type": "markdown",
   "metadata": {},
   "source": [
    "<b>Define</b>"
   ]
  },
  {
   "cell_type": "markdown",
   "metadata": {},
   "source": [
    "Convert 'doggo', 'floofer', 'pupper', 'puppo' to categorical."
   ]
  },
  {
   "cell_type": "markdown",
   "metadata": {},
   "source": [
    "<b>Code</b>"
   ]
  },
  {
   "cell_type": "code",
   "execution_count": 43,
   "metadata": {},
   "outputs": [],
   "source": [
    "twitter_archive_clean.doggo=twitter_archive_clean.doggo.astype('category')\n",
    "twitter_archive_clean.floofer=twitter_archive_clean.floofer.astype('category')\n",
    "twitter_archive_clean.pupper=twitter_archive_clean.pupper.astype('category')\n",
    "twitter_archive_clean.puppo=twitter_archive_clean.puppo.astype('category')"
   ]
  },
  {
   "cell_type": "markdown",
   "metadata": {},
   "source": [
    "<b>Test</b>"
   ]
  },
  {
   "cell_type": "code",
   "execution_count": 44,
   "metadata": {},
   "outputs": [
    {
     "name": "stdout",
     "output_type": "stream",
     "text": [
      "<class 'pandas.core.frame.DataFrame'>\n",
      "Int64Index: 2072 entries, 0 to 2355\n",
      "Data columns (total 18 columns):\n",
      "tweet_id                      2072 non-null int64\n",
      "in_reply_to_status_id         0 non-null float64\n",
      "in_reply_to_user_id           0 non-null float64\n",
      "timestamp                     2072 non-null object\n",
      "source                        2072 non-null object\n",
      "text                          2072 non-null object\n",
      "retweeted_status_id           0 non-null float64\n",
      "retweeted_status_user_id      0 non-null float64\n",
      "retweeted_status_timestamp    0 non-null object\n",
      "expanded_urls                 2072 non-null object\n",
      "rating_numerator              2072 non-null int64\n",
      "rating_denominator            2072 non-null int64\n",
      "name                          2072 non-null object\n",
      "doggo                         2072 non-null category\n",
      "floofer                       2072 non-null category\n",
      "pupper                        2072 non-null category\n",
      "puppo                         2072 non-null category\n",
      "quick_url                     2072 non-null object\n",
      "dtypes: category(4), float64(4), int64(3), object(7)\n",
      "memory usage: 251.3+ KB\n"
     ]
    }
   ],
   "source": [
    "twitter_archive_clean.info()"
   ]
  },
  {
   "cell_type": "markdown",
   "metadata": {},
   "source": [
    "<b>Define</b>"
   ]
  },
  {
   "cell_type": "markdown",
   "metadata": {},
   "source": [
    "Convert timestamp to datetime"
   ]
  },
  {
   "cell_type": "markdown",
   "metadata": {},
   "source": [
    "<b>Code</b>"
   ]
  },
  {
   "cell_type": "code",
   "execution_count": 45,
   "metadata": {},
   "outputs": [],
   "source": [
    "twitter_archive_clean.timestamp=pd.to_datetime(twitter_archive_clean.timestamp)"
   ]
  },
  {
   "cell_type": "markdown",
   "metadata": {},
   "source": [
    "<b>Test</b>"
   ]
  },
  {
   "cell_type": "code",
   "execution_count": 46,
   "metadata": {},
   "outputs": [
    {
     "name": "stdout",
     "output_type": "stream",
     "text": [
      "<class 'pandas.core.frame.DataFrame'>\n",
      "Int64Index: 2072 entries, 0 to 2355\n",
      "Data columns (total 18 columns):\n",
      "tweet_id                      2072 non-null int64\n",
      "in_reply_to_status_id         0 non-null float64\n",
      "in_reply_to_user_id           0 non-null float64\n",
      "timestamp                     2072 non-null datetime64[ns]\n",
      "source                        2072 non-null object\n",
      "text                          2072 non-null object\n",
      "retweeted_status_id           0 non-null float64\n",
      "retweeted_status_user_id      0 non-null float64\n",
      "retweeted_status_timestamp    0 non-null object\n",
      "expanded_urls                 2072 non-null object\n",
      "rating_numerator              2072 non-null int64\n",
      "rating_denominator            2072 non-null int64\n",
      "name                          2072 non-null object\n",
      "doggo                         2072 non-null category\n",
      "floofer                       2072 non-null category\n",
      "pupper                        2072 non-null category\n",
      "puppo                         2072 non-null category\n",
      "quick_url                     2072 non-null object\n",
      "dtypes: category(4), datetime64[ns](1), float64(4), int64(3), object(6)\n",
      "memory usage: 251.3+ KB\n"
     ]
    }
   ],
   "source": [
    "twitter_archive_clean.info()"
   ]
  },
  {
   "cell_type": "markdown",
   "metadata": {},
   "source": [
    "<b>Define</b>"
   ]
  },
  {
   "cell_type": "markdown",
   "metadata": {},
   "source": [
    "Remove empty columns."
   ]
  },
  {
   "cell_type": "markdown",
   "metadata": {},
   "source": [
    "<b>Code</b>"
   ]
  },
  {
   "cell_type": "code",
   "execution_count": 47,
   "metadata": {},
   "outputs": [],
   "source": [
    "twitter_archive_clean.drop(columns=['in_reply_to_status_id', 'in_reply_to_user_id','retweeted_status_id',\n",
    "                                   'retweeted_status_user_id','retweeted_status_timestamp'],inplace=True)"
   ]
  },
  {
   "cell_type": "markdown",
   "metadata": {},
   "source": [
    "<b>Test</b>"
   ]
  },
  {
   "cell_type": "code",
   "execution_count": 48,
   "metadata": {},
   "outputs": [
    {
     "data": {
      "text/html": [
       "<div>\n",
       "<style scoped>\n",
       "    .dataframe tbody tr th:only-of-type {\n",
       "        vertical-align: middle;\n",
       "    }\n",
       "\n",
       "    .dataframe tbody tr th {\n",
       "        vertical-align: top;\n",
       "    }\n",
       "\n",
       "    .dataframe thead th {\n",
       "        text-align: right;\n",
       "    }\n",
       "</style>\n",
       "<table border=\"1\" class=\"dataframe\">\n",
       "  <thead>\n",
       "    <tr style=\"text-align: right;\">\n",
       "      <th></th>\n",
       "      <th>tweet_id</th>\n",
       "      <th>timestamp</th>\n",
       "      <th>source</th>\n",
       "      <th>text</th>\n",
       "      <th>expanded_urls</th>\n",
       "      <th>rating_numerator</th>\n",
       "      <th>rating_denominator</th>\n",
       "      <th>name</th>\n",
       "      <th>doggo</th>\n",
       "      <th>floofer</th>\n",
       "      <th>pupper</th>\n",
       "      <th>puppo</th>\n",
       "      <th>quick_url</th>\n",
       "    </tr>\n",
       "  </thead>\n",
       "  <tbody>\n",
       "    <tr>\n",
       "      <th>0</th>\n",
       "      <td>892420643555336193</td>\n",
       "      <td>2017-08-01 16:23:56</td>\n",
       "      <td>&lt;a href=\"http://twitter.com/download/iphone\" r...</td>\n",
       "      <td>This is Phineas. He's a mystical boy. Only eve...</td>\n",
       "      <td>https://twitter.com/dog_rates/status/892420643...</td>\n",
       "      <td>13</td>\n",
       "      <td>10</td>\n",
       "      <td>Phineas</td>\n",
       "      <td>None</td>\n",
       "      <td>None</td>\n",
       "      <td>None</td>\n",
       "      <td>None</td>\n",
       "      <td>https://t.co/MgUWQ76dJU</td>\n",
       "    </tr>\n",
       "    <tr>\n",
       "      <th>1</th>\n",
       "      <td>892177421306343426</td>\n",
       "      <td>2017-08-01 00:17:27</td>\n",
       "      <td>&lt;a href=\"http://twitter.com/download/iphone\" r...</td>\n",
       "      <td>This is Tilly. She's just checking pup on you....</td>\n",
       "      <td>https://twitter.com/dog_rates/status/892177421...</td>\n",
       "      <td>13</td>\n",
       "      <td>10</td>\n",
       "      <td>Tilly</td>\n",
       "      <td>None</td>\n",
       "      <td>None</td>\n",
       "      <td>None</td>\n",
       "      <td>None</td>\n",
       "      <td>https://t.co/0Xxu71qeIV</td>\n",
       "    </tr>\n",
       "    <tr>\n",
       "      <th>2</th>\n",
       "      <td>891815181378084864</td>\n",
       "      <td>2017-07-31 00:18:03</td>\n",
       "      <td>&lt;a href=\"http://twitter.com/download/iphone\" r...</td>\n",
       "      <td>This is Archie. He is a rare Norwegian Pouncin...</td>\n",
       "      <td>https://twitter.com/dog_rates/status/891815181...</td>\n",
       "      <td>12</td>\n",
       "      <td>10</td>\n",
       "      <td>Archie</td>\n",
       "      <td>None</td>\n",
       "      <td>None</td>\n",
       "      <td>None</td>\n",
       "      <td>None</td>\n",
       "      <td>https://t.co/wUnZnhtVJB</td>\n",
       "    </tr>\n",
       "    <tr>\n",
       "      <th>3</th>\n",
       "      <td>891689557279858688</td>\n",
       "      <td>2017-07-30 15:58:51</td>\n",
       "      <td>&lt;a href=\"http://twitter.com/download/iphone\" r...</td>\n",
       "      <td>This is Darla. She commenced a snooze mid meal...</td>\n",
       "      <td>https://twitter.com/dog_rates/status/891689557...</td>\n",
       "      <td>13</td>\n",
       "      <td>10</td>\n",
       "      <td>Darla</td>\n",
       "      <td>None</td>\n",
       "      <td>None</td>\n",
       "      <td>None</td>\n",
       "      <td>None</td>\n",
       "      <td>https://t.co/tD36da7qLQ</td>\n",
       "    </tr>\n",
       "    <tr>\n",
       "      <th>4</th>\n",
       "      <td>891327558926688256</td>\n",
       "      <td>2017-07-29 16:00:24</td>\n",
       "      <td>&lt;a href=\"http://twitter.com/download/iphone\" r...</td>\n",
       "      <td>This is Franklin. He would like you to stop ca...</td>\n",
       "      <td>https://twitter.com/dog_rates/status/891327558...</td>\n",
       "      <td>12</td>\n",
       "      <td>10</td>\n",
       "      <td>Franklin</td>\n",
       "      <td>None</td>\n",
       "      <td>None</td>\n",
       "      <td>None</td>\n",
       "      <td>None</td>\n",
       "      <td>https://t.co/AtUZn91f7f</td>\n",
       "    </tr>\n",
       "  </tbody>\n",
       "</table>\n",
       "</div>"
      ],
      "text/plain": [
       "             tweet_id           timestamp  \\\n",
       "0  892420643555336193 2017-08-01 16:23:56   \n",
       "1  892177421306343426 2017-08-01 00:17:27   \n",
       "2  891815181378084864 2017-07-31 00:18:03   \n",
       "3  891689557279858688 2017-07-30 15:58:51   \n",
       "4  891327558926688256 2017-07-29 16:00:24   \n",
       "\n",
       "                                              source  \\\n",
       "0  <a href=\"http://twitter.com/download/iphone\" r...   \n",
       "1  <a href=\"http://twitter.com/download/iphone\" r...   \n",
       "2  <a href=\"http://twitter.com/download/iphone\" r...   \n",
       "3  <a href=\"http://twitter.com/download/iphone\" r...   \n",
       "4  <a href=\"http://twitter.com/download/iphone\" r...   \n",
       "\n",
       "                                                text  \\\n",
       "0  This is Phineas. He's a mystical boy. Only eve...   \n",
       "1  This is Tilly. She's just checking pup on you....   \n",
       "2  This is Archie. He is a rare Norwegian Pouncin...   \n",
       "3  This is Darla. She commenced a snooze mid meal...   \n",
       "4  This is Franklin. He would like you to stop ca...   \n",
       "\n",
       "                                       expanded_urls  rating_numerator  \\\n",
       "0  https://twitter.com/dog_rates/status/892420643...                13   \n",
       "1  https://twitter.com/dog_rates/status/892177421...                13   \n",
       "2  https://twitter.com/dog_rates/status/891815181...                12   \n",
       "3  https://twitter.com/dog_rates/status/891689557...                13   \n",
       "4  https://twitter.com/dog_rates/status/891327558...                12   \n",
       "\n",
       "   rating_denominator      name doggo floofer pupper puppo  \\\n",
       "0                  10   Phineas  None    None   None  None   \n",
       "1                  10     Tilly  None    None   None  None   \n",
       "2                  10    Archie  None    None   None  None   \n",
       "3                  10     Darla  None    None   None  None   \n",
       "4                  10  Franklin  None    None   None  None   \n",
       "\n",
       "                 quick_url  \n",
       "0  https://t.co/MgUWQ76dJU  \n",
       "1  https://t.co/0Xxu71qeIV  \n",
       "2  https://t.co/wUnZnhtVJB  \n",
       "3  https://t.co/tD36da7qLQ  \n",
       "4  https://t.co/AtUZn91f7f  "
      ]
     },
     "execution_count": 48,
     "metadata": {},
     "output_type": "execute_result"
    }
   ],
   "source": [
    "twitter_archive_clean.head()"
   ]
  },
  {
   "cell_type": "markdown",
   "metadata": {},
   "source": [
    "<b>Define</b>"
   ]
  },
  {
   "cell_type": "markdown",
   "metadata": {},
   "source": [
    "Change invalid values for p1, p2, p3(dog breeds) such scorpion, shopping backed etc."
   ]
  },
  {
   "cell_type": "markdown",
   "metadata": {},
   "source": [
    "Unfortunately, there is no pattern to determine incorrect values of dog breeds, only manualy."
   ]
  },
  {
   "cell_type": "markdown",
   "metadata": {},
   "source": [
    "<b>Code</b>"
   ]
  },
  {
   "cell_type": "code",
   "execution_count": 49,
   "metadata": {},
   "outputs": [
    {
     "data": {
      "text/plain": [
       "array(['Welsh_springer_spaniel', 'redbone', 'German_shepherd',\n",
       "       'Rhodesian_ridgeback', 'miniature_pinscher',\n",
       "       'Bernese_mountain_dog', 'box_turtle', 'chow', 'shopping_cart',\n",
       "       'miniature_poodle', 'golden_retriever', 'Gordon_setter',\n",
       "       'Walker_hound', 'pug', 'bloodhound', 'Lhasa', 'English_setter',\n",
       "       'hen', 'desktop_computer', 'Italian_greyhound', 'Maltese_dog',\n",
       "       'three-toed_sloth', 'ox', 'malamute', 'guinea_pig',\n",
       "       'soft-coated_wheaten_terrier', 'Chihuahua',\n",
       "       'black-and-tan_coonhound', 'coho', 'toy_terrier',\n",
       "       'Blenheim_spaniel', 'Pembroke', 'llama',\n",
       "       'Chesapeake_Bay_retriever', 'curly-coated_retriever', 'dalmatian',\n",
       "       'Ibizan_hound', 'Border_collie', 'Labrador_retriever', 'seat_belt',\n",
       "       'snail', 'miniature_schnauzer', 'Airedale', 'triceratops', 'swab',\n",
       "       'hay', 'hyena', 'jigsaw_puzzle', 'West_Highland_white_terrier',\n",
       "       'toy_poodle', 'giant_schnauzer', 'vizsla', 'vacuum', 'Rottweiler',\n",
       "       'Siberian_husky', 'teddy', 'papillon', 'Saint_Bernard',\n",
       "       'porcupine', 'goose', 'Tibetan_terrier', 'borzoi', 'beagle',\n",
       "       'hare', 'Yorkshire_terrier', 'Pomeranian', 'electric_fan',\n",
       "       'web_site', 'ibex', 'kuvasz', 'fire_engine', 'lorikeet',\n",
       "       'flat-coated_retriever', 'toyshop', 'common_iguana',\n",
       "       'Norwegian_elkhound', 'frilled_lizard', 'leatherback_turtle',\n",
       "       'hamster', 'Angora', 'Arctic_fox', 'trombone', 'canoe',\n",
       "       'king_penguin', 'shopping_basket', 'standard_poodle',\n",
       "       'Staffordshire_bullterrier', 'basenji', 'Lakeland_terrier',\n",
       "       'American_Staffordshire_terrier', 'bearskin', 'Shih-Tzu',\n",
       "       'bustard', 'crash_helmet', 'French_bulldog', 'Pekinese',\n",
       "       'komondor', 'ski_mask', 'malinois', 'kelpie', 'Brittany_spaniel',\n",
       "       'cocker_spaniel', 'shower_curtain', 'basset', 'jellyfish',\n",
       "       'doormat', 'Arabian_camel', 'lynx', 'hog', 'comic_book', 'minivan',\n",
       "       'seashore', 'cuirass', 'Brabancon_griffon', 'candle', 'Eskimo_dog',\n",
       "       'weasel', 'Christmas_stocking', 'washbasin', 'car_mirror',\n",
       "       'piggy_bank', 'pot', 'boathouse', 'mud_turtle',\n",
       "       'German_short-haired_pointer', 'Shetland_sheepdog',\n",
       "       'Irish_terrier', 'cairn', 'platypus', 'English_springer',\n",
       "       'whippet', 'ping-pong_ball', 'sea_urchin', 'bow_tie',\n",
       "       'window_shade', \"jack-o'-lantern\", 'sorrel', 'Sussex_spaniel',\n",
       "       'peacock', 'axolotl', 'wool', 'banana', 'Dandie_Dinmont',\n",
       "       'Norwich_terrier', 'wood_rabbit', 'dhole', 'keeshond',\n",
       "       'Norfolk_terrier', 'lacewing', 'dingo', 'brown_bear',\n",
       "       'Old_English_sheepdog', 'scorpion', 'flamingo', 'microphone',\n",
       "       'Samoyed', 'pitcher', 'African_hunting_dog', 'refrigerator',\n",
       "       'picket_fence', 'tub', 'zebra', 'hermit_crab', 'swing', 'Doberman',\n",
       "       'park_bench', 'feather_boa', 'Loafer', 'stone_wall', 'ice_bear',\n",
       "       'prayer_rug', 'chimpanzee', 'china_cabinet', 'bee_eater',\n",
       "       'tennis_ball', 'carton', 'killer_whale', 'ostrich', 'terrapin',\n",
       "       'Siamese_cat', 'gondola', 'Great_Pyrenees', 'microwave',\n",
       "       'starfish', 'sandbar', 'tusker', 'motor_scooter', 'ram',\n",
       "       'leaf_beetle', 'wombat', 'schipperke', 'Newfoundland',\n",
       "       'bull_mastiff', 'water_bottle', 'suit', 'toilet_seat', 'collie',\n",
       "       'robin', 'Cardigan', 'Greater_Swiss_Mountain_dog', 'slug',\n",
       "       'toilet_tissue', 'acorn_squash', 'soccer_ball',\n",
       "       'African_crocodile', 'tick', 'ocarina', 'boxer', 'street_sign',\n",
       "       'bow', 'stove', 'paper_towel', 'upright', 'dough',\n",
       "       'Scottish_deerhound', 'bath_towel', 'standard_schnauzer',\n",
       "       'walking_stick', 'Irish_water_spaniel', 'bubble', 'Boston_bull',\n",
       "       'book_jacket', 'rain_barrel', 'black-footed_ferret', 'guenon',\n",
       "       'Japanese_spaniel', 'water_buffalo', 'patio', 'cowboy_hat',\n",
       "       'dogsled', 'maze', 'harp', 'panpipe', 'cash_machine', 'mailbox',\n",
       "       'wallaby', 'EntleBucher', 'earthstar', 'pillow', 'bluetick',\n",
       "       'space_heater', 'carousel', 'Irish_setter', 'birdhouse', 'snorkel',\n",
       "       'bald_eagle', 'koala', 'Leonberg', 'cheetah', 'minibus',\n",
       "       'Weimaraner', 'clog', 'dishwasher', 'white_wolf', 'sliding_door',\n",
       "       'damselfly', 'Great_Dane', 'Tibetan_mastiff', 'cheeseburger',\n",
       "       'fiddler_crab', 'bannister', 'crane', 'Scotch_terrier',\n",
       "       'snowmobile', 'badger', 'bighorn', 'geyser', 'barrow', 'bison',\n",
       "       'Mexican_hairless', 'ice_lolly', 'sea_lion', 'dining_table',\n",
       "       'groenendael', 'Australian_terrier', 'beaver', 'briard',\n",
       "       'Appenzeller', 'grey_fox', 'mousetrap', 'hippopotamus',\n",
       "       'Border_terrier', 'hummingbird', 'tailed_frog', 'otter',\n",
       "       'Egyptian_cat', 'four-poster', 'wild_boar', 'bathtub', 'agama',\n",
       "       'muzzle', 'hotdog', 'bib', 'espresso', 'timber_wolf', 'meerkat',\n",
       "       'nail', 'hammer', 'home_theater', 'alp', 'bonnet', 'handkerchief',\n",
       "       'hand_blower', 'polecat', 'lakeside', 'studio_couch', 'cup',\n",
       "       'cliff', 'Bedlington_terrier', 'lawn_mower', 'balloon',\n",
       "       'sunglasses', 'rapeseed', 'traffic_light', 'coil', 'binoculars',\n",
       "       'paddle', 'tiger_shark', 'sulphur-crested_cockatoo',\n",
       "       'wire-haired_fox_terrier', 'Saluki', 'American_black_bear',\n",
       "       'rotisserie', 'conch', 'skunk', 'bookshop', 'radio_telescope',\n",
       "       'cougar', 'African_grey', 'coral_reef', 'lion', 'maillot',\n",
       "       'Madagascar_cat', 'tabby', 'silky_terrier', 'giant_panda',\n",
       "       'long-horned_beetle', 'Afghan_hound', 'clumber', 'sundial',\n",
       "       'padlock', 'pool_table', 'quilt', 'beach_wagon', 'remote_control',\n",
       "       'bakery', 'pedestal', 'gas_pump', 'bookcase', 'shield', 'loupe',\n",
       "       'restaurant', 'prison', 'school_bus', 'cowboy_boot', 'jersey',\n",
       "       'wooden_spoon', 'leopard', 'mortarboard', 'teapot',\n",
       "       'military_uniform', 'washer', 'coffee_mug', 'fountain',\n",
       "       'pencil_box', 'barbell', 'grille', 'revolver', 'envelope',\n",
       "       'syringe', 'marmot', 'pole', 'laptop', 'basketball', 'tricycle',\n",
       "       'convertible', 'limousine', 'orange'], dtype=object)"
      ]
     },
     "execution_count": 49,
     "metadata": {},
     "output_type": "execute_result"
    }
   ],
   "source": [
    "image_predictions_clean.p1.unique()"
   ]
  },
  {
   "cell_type": "code",
   "execution_count": 50,
   "metadata": {},
   "outputs": [],
   "source": [
    "incorrect_breeds=['coil', 'tick', 'revolver', 'binoculars', 'ping-pong_ball', 'electric_fan',\n",
    "                  'giant_panda', 'maillot', 'bee_eater', 'suit', 'pillow', 'ocarina', 'bighorn',\n",
    "                  'three-toed_sloth', 'basketball', 'bald_eagle', 'lawnmower', 'conch', \n",
    "                  'shopping basket', 'scorpion', 'bonnet', 'pool_table', 'carton', 'bearskin',\n",
    "                  'piggy_bank', 'leaf_beetle', 'lacewing', 'ibex', 'seat_belt', 'web_site',\n",
    "                  'tennis_ball', 'dingo', 'doormat', 'Siamese_cat', 'bath_towel', 'hamster',\n",
    "                  'swing', 'tub', 'ice_bear', 'car_mirror', 'llama', 'redbone', 'home_theater',\n",
    "                  'ox', 'Newfoundland', 'Lhasa', 'shopping_cart', 'porcupine', 'minivan',\n",
    "                  'hippopotamus', 'brown_bear', 'goose, bow_tie', 'wombat', 'barrow', 'hog',\n",
    "                  'patio', 'guinea_pig', 'Arctic_fox', 'bluetick', 'jigsaw_puzzle', 'bathtub',\n",
    "                  'mousetrap', 'ram', 'cairn', 'wood_rabbit', 'white_wolf', 'prison',\n",
    "                  'Arabian_camel', 'motor_scooter', 'refrigerator', 'vacuum', 'cowboy_hat',\n",
    "                  'washbasin', 'toilet_tissue', 'seashore', 'common_iguana', 'space_heater',\n",
    "                  'sea_lion', 'ski_mask', 'window_shade', 'Christmas_stocking', \"jack-o'-lantern\",\n",
    "                  'Leonberg', 'muzzle', 'stone_wall', 'comic_book', 'balloon', 'triceratops',\n",
    "                  'dishwasher', 'dough', 'paper_towel', 'hen', 'gondola', 'frilled_lizard',\n",
    "                  'sorrel', 'weasel', 'leatherback_turtle', 'birdhouse', 'tusker', 'wallaby',\n",
    "                  'upright', 'dogsled', 'hermit_crab', 'paddle', 'lakeside', 'gas_pump', 'bustard',\n",
    "                  'koala', 'toyshop', 'badger', 'snorkel', 'Loafer', 'Angora', 'shower_curtain',\n",
    "                  'cash_machine', 'box-turtle', 'Appenzeller', 'ostrich', 'acorn_squash', 'snail', 'geyser',\n",
    "                  'bubble', 'laptop', 'jellyfish', 'chimpanzee', 'axolotl', 'feather_boa', 'wool', 'hyena', \n",
    "                  'street_sign', 'meerket', 'bannister', 'barbell', 'four-poster', 'sandbar', \n",
    "                  'Madagaskar_cat', 'minibus', 'handkerchief', 'rain_barrel', 'trombone', \n",
    "                  'walking_stick', 'ice_lolly', 'grey_fox', 'mud_turtle', 'banana', 'loupe', \n",
    "                  'starfish', 'expresso', 'black-footed_ferret', 'radio_telescope', 'cuirass', \n",
    "                  'syringe', 'marmot', 'African_grey', 'bib', 'cheeseburger', 'cheetah', \n",
    "                  'studio_couch', 'envelope','cougar','coral_reef','convertible','coho',\n",
    "                  'coffee_mug','guenon','hammer','hand_blower','mortarboard', 'lion', \n",
    "                  'military_uniform','microwave','microphone','maze','mailbox','lynx',\n",
    "                  'lorikeet','long-horned_beetle','limousine','hare','leopard','lawn_mower',\n",
    "                 'king_penguin','killer_whale','jersey','hummingbird','hotdog','hay','harp',\n",
    "                 'damselfly','terrapin','shopping_basket','canoe', 'beach_wagon', 'standard_schnauzer',\n",
    "                  'remote_control','earthstar','African_hunting_dog','espresso','alp','African_crocodile',\n",
    "                  'trafiic_light','fire_engine','pencil_box','pot', 'rotisserie','grille','restaurant',\n",
    "                  'china_cabinet','fiddler_crab','pole','water_buffalo','agama','flamingo','clumber',\n",
    "                  'pedestal','sundial', 'padlock', 'quilt', 'bakery',\n",
    "                   'bookcase', 'shield', 'school_bus', 'cowboy_boot', 'wooden_spoon',\n",
    "                    'teapot', 'washer', 'fountain', 'tricycle', 'orange','American_black_bear',\n",
    "                   'skunk', 'bookshop', 'Madagascar_cat', 'tabby', 'sundial', 'padlock', 'quilt', 'bakery',\n",
    "                   'bookcase', 'shield', 'school_bus', 'cowboy_boot', 'wooden_spoon',\n",
    "                   'teapot', 'washer', 'fountain', 'tricycle', 'orange', 'American_black_bear',\n",
    "                   'skunk', 'bookshop', 'Madagascar_cat', 'tabby','sunglasses', 'rapeseed',\n",
    "                   'traffic_light', 'tiger_shark', 'sulphur-crested_cockatoo','tailed_frog', 'otter', 'Egyptian_cat',\n",
    "                   'wild_boar', 'timber_wolf', 'meerkat', 'nail', 'polecat', 'cup',\n",
    "                   'cliff','beaver','dining_table', 'snowbile','bison','crane',\n",
    "                  'clog', 'sliding_door','carousel','panpipe','book_jacket',\n",
    "                  'bow', 'stove', 'slug', 'robin','water_bottle', 'toilet_seat',\n",
    "                  'pitcher', 'picket_fence', 'zebra','park_bench', 'prayer_rug','Pembroke',\n",
    "                    'swab', 'goose', 'borzoi', 'beagle','crash_helmet','candle', \n",
    "                  'platypus', 'sea_urchin', 'bow_tie', 'peacock',\n",
    "                  'dhole','snowmobile','soccer_ball','boathouse','desktop_computer','box_turtle',\n",
    "                 ]\n",
    "def change_incorrect_value(prediction_value):\n",
    "    #check whether or not a prediction value is correct or not\n",
    "    if prediction_value in incorrect_breeds:\n",
    "        return \"None\"\n",
    "    return prediction_value\n",
    "#applying the function to p1,p2,p3\n",
    "image_predictions_clean['p1']=image_predictions_clean['p1'].apply(change_incorrect_value)\n",
    "image_predictions_clean['p2']=image_predictions_clean['p2'].apply(change_incorrect_value)\n",
    "image_predictions_clean['p3']=image_predictions_clean['p3'].apply(change_incorrect_value)"
   ]
  },
  {
   "cell_type": "code",
   "execution_count": 51,
   "metadata": {},
   "outputs": [
    {
     "data": {
      "text/plain": [
       "306"
      ]
     },
     "execution_count": 51,
     "metadata": {},
     "output_type": "execute_result"
    }
   ],
   "source": [
    "len(incorrect_breeds)"
   ]
  },
  {
   "cell_type": "markdown",
   "metadata": {},
   "source": [
    "<b>Test</b>"
   ]
  },
  {
   "cell_type": "code",
   "execution_count": 52,
   "metadata": {},
   "outputs": [
    {
     "data": {
      "text/plain": [
       "None                           671\n",
       "golden_retriever               150\n",
       "Labrador_retriever             100\n",
       "Chihuahua                       83\n",
       "pug                             57\n",
       "chow                            44\n",
       "Samoyed                         43\n",
       "toy_poodle                      39\n",
       "Pomeranian                      38\n",
       "malamute                        30\n",
       "cocker_spaniel                  30\n",
       "French_bulldog                  26\n",
       "miniature_pinscher              23\n",
       "Chesapeake_Bay_retriever        23\n",
       "Staffordshire_bullterrier       20\n",
       "German_shepherd                 20\n",
       "Siberian_husky                  20\n",
       "Cardigan                        19\n",
       "Shetland_sheepdog               18\n",
       "Eskimo_dog                      18\n",
       "Maltese_dog                     18\n",
       "teddy                           18\n",
       "Lakeland_terrier                17\n",
       "Rottweiler                      17\n",
       "Shih-Tzu                        17\n",
       "kuvasz                          16\n",
       "Italian_greyhound               16\n",
       "Great_Pyrenees                  14\n",
       "West_Highland_white_terrier     14\n",
       "dalmatian                       13\n",
       "                              ... \n",
       "Afghan_hound                     4\n",
       "keeshond                         4\n",
       "Weimaraner                       4\n",
       "Gordon_setter                    4\n",
       "Mexican_hairless                 4\n",
       "Rhodesian_ridgeback              4\n",
       "Saluki                           4\n",
       "Norwich_terrier                  4\n",
       "miniature_schnauzer              4\n",
       "Tibetan_terrier                  4\n",
       "Irish_water_spaniel              3\n",
       "Brabancon_griffon                3\n",
       "curly-coated_retriever           3\n",
       "briard                           3\n",
       "komondor                         3\n",
       "Welsh_springer_spaniel           3\n",
       "Scottish_deerhound               3\n",
       "giant_schnauzer                  3\n",
       "Ibizan_hound                     3\n",
       "Greater_Swiss_Mountain_dog       3\n",
       "Sussex_spaniel                   2\n",
       "Australian_terrier               2\n",
       "black-and-tan_coonhound          2\n",
       "toy_terrier                      2\n",
       "wire-haired_fox_terrier          2\n",
       "Scotch_terrier                   1\n",
       "Japanese_spaniel                 1\n",
       "silky_terrier                    1\n",
       "groenendael                      1\n",
       "EntleBucher                      1\n",
       "Name: p1, Length: 101, dtype: int64"
      ]
     },
     "execution_count": 52,
     "metadata": {},
     "output_type": "execute_result"
    }
   ],
   "source": [
    "image_predictions_clean.p1.value_counts()"
   ]
  },
  {
   "cell_type": "markdown",
   "metadata": {},
   "source": [
    "<b>Define</b>"
   ]
  },
  {
   "cell_type": "markdown",
   "metadata": {},
   "source": [
    "Change p1,p2,p3 to categorical"
   ]
  },
  {
   "cell_type": "markdown",
   "metadata": {},
   "source": [
    "<b>Code</b>"
   ]
  },
  {
   "cell_type": "code",
   "execution_count": 53,
   "metadata": {},
   "outputs": [],
   "source": [
    "image_predictions_clean.p1=image_predictions_clean.p1.astype('category')\n",
    "image_predictions_clean.p2=image_predictions_clean.p2.astype('category')\n",
    "image_predictions_clean.p3=image_predictions_clean.p3.astype('category')"
   ]
  },
  {
   "cell_type": "markdown",
   "metadata": {},
   "source": [
    "<b>Test</b>"
   ]
  },
  {
   "cell_type": "code",
   "execution_count": 54,
   "metadata": {},
   "outputs": [
    {
     "name": "stdout",
     "output_type": "stream",
     "text": [
      "<class 'pandas.core.frame.DataFrame'>\n",
      "RangeIndex: 2075 entries, 0 to 2074\n",
      "Data columns (total 12 columns):\n",
      "tweet_id    2075 non-null int64\n",
      "jpg_url     2075 non-null object\n",
      "img_num     2075 non-null int64\n",
      "p1          2075 non-null category\n",
      "p1_conf     2075 non-null float64\n",
      "p1_dog      2075 non-null bool\n",
      "p2          2075 non-null category\n",
      "p2_conf     2075 non-null float64\n",
      "p2_dog      2075 non-null bool\n",
      "p3          2075 non-null category\n",
      "p3_conf     2075 non-null float64\n",
      "p3_dog      2075 non-null bool\n",
      "dtypes: bool(3), category(3), float64(3), int64(2), object(1)\n",
      "memory usage: 143.4+ KB\n"
     ]
    }
   ],
   "source": [
    "image_predictions_clean.info()"
   ]
  },
  {
   "cell_type": "markdown",
   "metadata": {},
   "source": [
    "<b>Define</b>"
   ]
  },
  {
   "cell_type": "markdown",
   "metadata": {},
   "source": [
    "66 duplicated image url.<br>\n",
    "Remove duplicates."
   ]
  },
  {
   "cell_type": "markdown",
   "metadata": {},
   "source": [
    "<b>Code</b>"
   ]
  },
  {
   "cell_type": "markdown",
   "metadata": {},
   "source": [
    "Firstly check these duplicates."
   ]
  },
  {
   "cell_type": "code",
   "execution_count": 55,
   "metadata": {},
   "outputs": [
    {
     "data": {
      "text/plain": [
       "1297    https://pbs.twimg.com/ext_tw_video_thumb/67535...\n",
       "1315      https://pbs.twimg.com/media/CWza7kpWcAAdYLc.jpg\n",
       "1333      https://pbs.twimg.com/media/CWyD2HGUYAQ1Xa7.jpg\n",
       "1345      https://pbs.twimg.com/media/CU1zsMSUAAAS0qW.jpg\n",
       "1349      https://pbs.twimg.com/media/CkNjahBXAAQ2kWo.jpg\n",
       "1364    https://pbs.twimg.com/tweet_video_thumb/CeBym7...\n",
       "1368      https://pbs.twimg.com/media/CYLDikFWEAAIy1y.jpg\n",
       "1387      https://pbs.twimg.com/media/ChK1tdBWwAQ1flD.jpg\n",
       "1407      https://pbs.twimg.com/media/CkjMx99UoAM2B1a.jpg\n",
       "1417      https://pbs.twimg.com/media/CVgdFjNWEAAxmbq.jpg\n",
       "1427      https://pbs.twimg.com/media/Cp6db4-XYAAMmqL.jpg\n",
       "1446      https://pbs.twimg.com/media/CiyHLocU4AI2pJu.jpg\n",
       "1453      https://pbs.twimg.com/media/CW88XN4WsAAlo8r.jpg\n",
       "1456      https://pbs.twimg.com/media/CmoPdmHW8AAi8BI.jpg\n",
       "1463      https://pbs.twimg.com/media/CcG07BYW0AErrC9.jpg\n",
       "1476      https://pbs.twimg.com/media/Ck2d7tJWUAEPTL3.jpg\n",
       "1487      https://pbs.twimg.com/media/CdHwZd0VIAA4792.jpg\n",
       "1495      https://pbs.twimg.com/media/CVuQ2LeUsAAIe3s.jpg\n",
       "1510      https://pbs.twimg.com/media/CtKHLuCWYAA2TTs.jpg\n",
       "1522      https://pbs.twimg.com/media/Co-hmcYXYAASkiG.jpg\n",
       "1538      https://pbs.twimg.com/media/CvaYgDOWgAEfjls.jpg\n",
       "1541      https://pbs.twimg.com/media/CpmyNumW8AAAJGj.jpg\n",
       "1564      https://pbs.twimg.com/media/CvyVxQRWEAAdSZS.jpg\n",
       "1569      https://pbs.twimg.com/media/CvJCabcWgAIoUxW.jpg\n",
       "1571      https://pbs.twimg.com/media/CvT6IV6WEAQhhV5.jpg\n",
       "1579      https://pbs.twimg.com/media/Cwx99rpW8AMk_Ie.jpg\n",
       "1588      https://pbs.twimg.com/media/CrXhIqBW8AA6Bse.jpg\n",
       "1589      https://pbs.twimg.com/media/CUN4Or5UAAAa5K4.jpg\n",
       "1590      https://pbs.twimg.com/media/CU3mITUWIAAfyQS.jpg\n",
       "1591      https://pbs.twimg.com/media/CVMOlMiWwAA4Yxl.jpg\n",
       "                              ...                        \n",
       "1619      https://pbs.twimg.com/media/CsrjryzWgAAZY00.jpg\n",
       "1624      https://pbs.twimg.com/media/CZhn-QAWwAASQan.jpg\n",
       "1627      https://pbs.twimg.com/media/CuRDF-XWcAIZSer.jpg\n",
       "1634      https://pbs.twimg.com/media/CtzKC7zXEAALfSo.jpg\n",
       "1636      https://pbs.twimg.com/media/Ct72q9jWcAAhlnw.jpg\n",
       "1640      https://pbs.twimg.com/media/Ct2qO5PXEAE6eB0.jpg\n",
       "1645      https://pbs.twimg.com/media/Cx5R8wPVEAALa9r.jpg\n",
       "1652      https://pbs.twimg.com/media/CwS4aqZXUAAe3IO.jpg\n",
       "1683      https://pbs.twimg.com/media/Cveg1-NXgAASaaT.jpg\n",
       "1693      https://pbs.twimg.com/media/CiibOMzUYAA9Mxz.jpg\n",
       "1699      https://pbs.twimg.com/media/CvoBPWRWgAA4het.jpg\n",
       "1703    https://pbs.twimg.com/ext_tw_video_thumb/81596...\n",
       "1712      https://pbs.twimg.com/media/Crwxb5yWgAAX5P_.jpg\n",
       "1717      https://pbs.twimg.com/media/C12x-JTVIAAzdfl.jpg\n",
       "1718      https://pbs.twimg.com/media/C12whDoVEAALRxa.jpg\n",
       "1727      https://pbs.twimg.com/media/CxqsX-8XUAAEvjD.jpg\n",
       "1736      https://pbs.twimg.com/media/CtVAvX-WIAAcGTf.jpg\n",
       "1742      https://pbs.twimg.com/media/C2oRbOuWEAAbVSl.jpg\n",
       "1746      https://pbs.twimg.com/media/C2kzTGxWEAEOpPL.jpg\n",
       "1755      https://pbs.twimg.com/media/CwiuEJmW8AAZnit.jpg\n",
       "1789      https://pbs.twimg.com/media/C3nygbBWQAAjwcW.jpg\n",
       "1803      https://pbs.twimg.com/media/Cq9guJ5WgAADfpF.jpg\n",
       "1804      https://pbs.twimg.com/media/CwJR1okWIAA6XMp.jpg\n",
       "1858    https://pbs.twimg.com/ext_tw_video_thumb/81742...\n",
       "1864    https://pbs.twimg.com/ext_tw_video_thumb/80710...\n",
       "1903      https://pbs.twimg.com/media/C4KHj-nWQAA3poV.jpg\n",
       "1944      https://pbs.twimg.com/media/CzG425nWgAAnP7P.jpg\n",
       "1992      https://pbs.twimg.com/media/DA7iHL5U0AA1OQo.jpg\n",
       "2041      https://pbs.twimg.com/media/C4bTH6nWMAAX_bJ.jpg\n",
       "2055      https://pbs.twimg.com/media/DFDw2tyUQAAAFke.jpg\n",
       "Name: jpg_url, Length: 66, dtype: object"
      ]
     },
     "execution_count": 55,
     "metadata": {},
     "output_type": "execute_result"
    }
   ],
   "source": [
    "image_predictions_clean[image_predictions_clean.jpg_url.duplicated()].jpg_url\n",
    "#check all duplicated jpg_url from the image predictions data set"
   ]
  },
  {
   "cell_type": "markdown",
   "metadata": {},
   "source": [
    "Randomly take a sample."
   ]
  },
  {
   "cell_type": "code",
   "execution_count": 56,
   "metadata": {},
   "outputs": [
    {
     "data": {
      "text/html": [
       "<div>\n",
       "<style scoped>\n",
       "    .dataframe tbody tr th:only-of-type {\n",
       "        vertical-align: middle;\n",
       "    }\n",
       "\n",
       "    .dataframe tbody tr th {\n",
       "        vertical-align: top;\n",
       "    }\n",
       "\n",
       "    .dataframe thead th {\n",
       "        text-align: right;\n",
       "    }\n",
       "</style>\n",
       "<table border=\"1\" class=\"dataframe\">\n",
       "  <thead>\n",
       "    <tr style=\"text-align: right;\">\n",
       "      <th></th>\n",
       "      <th>tweet_id</th>\n",
       "      <th>jpg_url</th>\n",
       "      <th>img_num</th>\n",
       "      <th>p1</th>\n",
       "      <th>p1_conf</th>\n",
       "      <th>p1_dog</th>\n",
       "      <th>p2</th>\n",
       "      <th>p2_conf</th>\n",
       "      <th>p2_dog</th>\n",
       "      <th>p3</th>\n",
       "      <th>p3_conf</th>\n",
       "      <th>p3_dog</th>\n",
       "    </tr>\n",
       "  </thead>\n",
       "  <tbody>\n",
       "    <tr>\n",
       "      <th>1201</th>\n",
       "      <td>741067306818797568</td>\n",
       "      <td>https://pbs.twimg.com/media/CkjMx99UoAM2B1a.jpg</td>\n",
       "      <td>1</td>\n",
       "      <td>golden_retriever</td>\n",
       "      <td>0.843799</td>\n",
       "      <td>True</td>\n",
       "      <td>Labrador_retriever</td>\n",
       "      <td>0.052956</td>\n",
       "      <td>True</td>\n",
       "      <td>kelpie</td>\n",
       "      <td>0.035711</td>\n",
       "      <td>True</td>\n",
       "    </tr>\n",
       "    <tr>\n",
       "      <th>1407</th>\n",
       "      <td>770093767776997377</td>\n",
       "      <td>https://pbs.twimg.com/media/CkjMx99UoAM2B1a.jpg</td>\n",
       "      <td>1</td>\n",
       "      <td>golden_retriever</td>\n",
       "      <td>0.843799</td>\n",
       "      <td>True</td>\n",
       "      <td>Labrador_retriever</td>\n",
       "      <td>0.052956</td>\n",
       "      <td>True</td>\n",
       "      <td>kelpie</td>\n",
       "      <td>0.035711</td>\n",
       "      <td>True</td>\n",
       "    </tr>\n",
       "  </tbody>\n",
       "</table>\n",
       "</div>"
      ],
      "text/plain": [
       "                tweet_id                                          jpg_url  \\\n",
       "1201  741067306818797568  https://pbs.twimg.com/media/CkjMx99UoAM2B1a.jpg   \n",
       "1407  770093767776997377  https://pbs.twimg.com/media/CkjMx99UoAM2B1a.jpg   \n",
       "\n",
       "      img_num                p1   p1_conf  p1_dog                  p2  \\\n",
       "1201        1  golden_retriever  0.843799    True  Labrador_retriever   \n",
       "1407        1  golden_retriever  0.843799    True  Labrador_retriever   \n",
       "\n",
       "       p2_conf  p2_dog      p3   p3_conf  p3_dog  \n",
       "1201  0.052956    True  kelpie  0.035711    True  \n",
       "1407  0.052956    True  kelpie  0.035711    True  "
      ]
     },
     "execution_count": 56,
     "metadata": {},
     "output_type": "execute_result"
    }
   ],
   "source": [
    "image_predictions_clean[image_predictions_clean.jpg_url=='https://pbs.twimg.com/media/CkjMx99UoAM2B1a.jpg']\n",
    "#check the value, in order to determine which is a duplicate."
   ]
  },
  {
   "cell_type": "code",
   "execution_count": 57,
   "metadata": {},
   "outputs": [],
   "source": [
    "retweets=twitter_archive[~twitter_archive.retweeted_status_id.isnull()].tweet_id.values\n",
    "#Keep in mind twitter_archive is original. Our twitter_archive_clean hasn't already had these\n",
    "#duplicates."
   ]
  },
  {
   "cell_type": "code",
   "execution_count": 58,
   "metadata": {},
   "outputs": [
    {
     "data": {
      "text/plain": [
       "False"
      ]
     },
     "execution_count": 58,
     "metadata": {},
     "output_type": "execute_result"
    }
   ],
   "source": [
    "741067306818797568 in retweets "
   ]
  },
  {
   "cell_type": "code",
   "execution_count": 59,
   "metadata": {},
   "outputs": [
    {
     "data": {
      "text/plain": [
       "True"
      ]
     },
     "execution_count": 59,
     "metadata": {},
     "output_type": "execute_result"
    }
   ],
   "source": [
    "770093767776997377 in retweets"
   ]
  },
  {
   "cell_type": "markdown",
   "metadata": {},
   "source": [
    "As expected, the duplicates in image_predictions are retweets.<br>\n",
    "Remove these duplicates from the image_predictions"
   ]
  },
  {
   "cell_type": "code",
   "execution_count": 60,
   "metadata": {},
   "outputs": [],
   "source": [
    "image_predictions_clean=image_predictions_clean[~image_predictions_clean['tweet_id'].isin(retweets)]\n",
    "#removed duplicates, we used retweets from the twitter_archive data set."
   ]
  },
  {
   "cell_type": "markdown",
   "metadata": {},
   "source": [
    "<b>Test</b>"
   ]
  },
  {
   "cell_type": "code",
   "execution_count": 61,
   "metadata": {},
   "outputs": [
    {
     "name": "stdout",
     "output_type": "stream",
     "text": [
      "<class 'pandas.core.frame.DataFrame'>\n",
      "Int64Index: 1994 entries, 0 to 2074\n",
      "Data columns (total 12 columns):\n",
      "tweet_id    1994 non-null int64\n",
      "jpg_url     1994 non-null object\n",
      "img_num     1994 non-null int64\n",
      "p1          1994 non-null category\n",
      "p1_conf     1994 non-null float64\n",
      "p1_dog      1994 non-null bool\n",
      "p2          1994 non-null category\n",
      "p2_conf     1994 non-null float64\n",
      "p2_dog      1994 non-null bool\n",
      "p3          1994 non-null category\n",
      "p3_conf     1994 non-null float64\n",
      "p3_dog      1994 non-null bool\n",
      "dtypes: bool(3), category(3), float64(3), int64(2), object(1)\n",
      "memory usage: 154.4+ KB\n"
     ]
    }
   ],
   "source": [
    "image_predictions_clean.info()"
   ]
  },
  {
   "cell_type": "markdown",
   "metadata": {},
   "source": [
    "<b>Define</b>"
   ]
  },
  {
   "cell_type": "markdown",
   "metadata": {},
   "source": [
    "Remove rows without retweet_count/favorite_count."
   ]
  },
  {
   "cell_type": "markdown",
   "metadata": {},
   "source": [
    "<b>Code</b>"
   ]
  },
  {
   "cell_type": "code",
   "execution_count": 62,
   "metadata": {},
   "outputs": [],
   "source": [
    "tweet_scores_clean=tweet_scores_clean[tweet_scores_clean.retweet_count!='failed']"
   ]
  },
  {
   "cell_type": "markdown",
   "metadata": {},
   "source": [
    "<b>Test</b>"
   ]
  },
  {
   "cell_type": "code",
   "execution_count": 63,
   "metadata": {},
   "outputs": [
    {
     "data": {
      "text/html": [
       "<div>\n",
       "<style scoped>\n",
       "    .dataframe tbody tr th:only-of-type {\n",
       "        vertical-align: middle;\n",
       "    }\n",
       "\n",
       "    .dataframe tbody tr th {\n",
       "        vertical-align: top;\n",
       "    }\n",
       "\n",
       "    .dataframe thead th {\n",
       "        text-align: right;\n",
       "    }\n",
       "</style>\n",
       "<table border=\"1\" class=\"dataframe\">\n",
       "  <thead>\n",
       "    <tr style=\"text-align: right;\">\n",
       "      <th></th>\n",
       "      <th>id</th>\n",
       "      <th>retweet_count</th>\n",
       "      <th>favorite_count</th>\n",
       "    </tr>\n",
       "  </thead>\n",
       "  <tbody>\n",
       "  </tbody>\n",
       "</table>\n",
       "</div>"
      ],
      "text/plain": [
       "Empty DataFrame\n",
       "Columns: [id, retweet_count, favorite_count]\n",
       "Index: []"
      ]
     },
     "execution_count": 63,
     "metadata": {},
     "output_type": "execute_result"
    }
   ],
   "source": [
    "tweet_scores_clean[tweet_scores_clean.retweet_count=='failed']"
   ]
  },
  {
   "cell_type": "markdown",
   "metadata": {},
   "source": [
    "<b>Tidy data</b>"
   ]
  },
  {
   "cell_type": "markdown",
   "metadata": {},
   "source": [
    "<b>Define</b>"
   ]
  },
  {
   "cell_type": "markdown",
   "metadata": {},
   "source": [
    "Convert 3 columns: doggo, floofer, pupper, puppo into column: \"stage\"."
   ]
  },
  {
   "cell_type": "markdown",
   "metadata": {},
   "source": [
    "<b>Code</b>"
   ]
  },
  {
   "cell_type": "code",
   "execution_count": 64,
   "metadata": {},
   "outputs": [],
   "source": [
    "twitter_archive_clean['stage']=twitter_archive_clean['text'].str.extract('(puppo|pupper|floofer|doggo)', expand=True)\n",
    "twitter_archive_clean.drop(columns=['doggo','floofer','pupper','puppo'],inplace=True)"
   ]
  },
  {
   "cell_type": "code",
   "execution_count": 65,
   "metadata": {},
   "outputs": [
    {
     "data": {
      "text/html": [
       "<div>\n",
       "<style scoped>\n",
       "    .dataframe tbody tr th:only-of-type {\n",
       "        vertical-align: middle;\n",
       "    }\n",
       "\n",
       "    .dataframe tbody tr th {\n",
       "        vertical-align: top;\n",
       "    }\n",
       "\n",
       "    .dataframe thead th {\n",
       "        text-align: right;\n",
       "    }\n",
       "</style>\n",
       "<table border=\"1\" class=\"dataframe\">\n",
       "  <thead>\n",
       "    <tr style=\"text-align: right;\">\n",
       "      <th></th>\n",
       "      <th>tweet_id</th>\n",
       "      <th>timestamp</th>\n",
       "      <th>source</th>\n",
       "      <th>text</th>\n",
       "      <th>expanded_urls</th>\n",
       "      <th>rating_numerator</th>\n",
       "      <th>rating_denominator</th>\n",
       "      <th>name</th>\n",
       "      <th>quick_url</th>\n",
       "      <th>stage</th>\n",
       "    </tr>\n",
       "  </thead>\n",
       "  <tbody>\n",
       "    <tr>\n",
       "      <th>0</th>\n",
       "      <td>892420643555336193</td>\n",
       "      <td>2017-08-01 16:23:56</td>\n",
       "      <td>&lt;a href=\"http://twitter.com/download/iphone\" r...</td>\n",
       "      <td>This is Phineas. He's a mystical boy. Only eve...</td>\n",
       "      <td>https://twitter.com/dog_rates/status/892420643...</td>\n",
       "      <td>13</td>\n",
       "      <td>10</td>\n",
       "      <td>Phineas</td>\n",
       "      <td>https://t.co/MgUWQ76dJU</td>\n",
       "      <td>NaN</td>\n",
       "    </tr>\n",
       "    <tr>\n",
       "      <th>1</th>\n",
       "      <td>892177421306343426</td>\n",
       "      <td>2017-08-01 00:17:27</td>\n",
       "      <td>&lt;a href=\"http://twitter.com/download/iphone\" r...</td>\n",
       "      <td>This is Tilly. She's just checking pup on you....</td>\n",
       "      <td>https://twitter.com/dog_rates/status/892177421...</td>\n",
       "      <td>13</td>\n",
       "      <td>10</td>\n",
       "      <td>Tilly</td>\n",
       "      <td>https://t.co/0Xxu71qeIV</td>\n",
       "      <td>NaN</td>\n",
       "    </tr>\n",
       "    <tr>\n",
       "      <th>2</th>\n",
       "      <td>891815181378084864</td>\n",
       "      <td>2017-07-31 00:18:03</td>\n",
       "      <td>&lt;a href=\"http://twitter.com/download/iphone\" r...</td>\n",
       "      <td>This is Archie. He is a rare Norwegian Pouncin...</td>\n",
       "      <td>https://twitter.com/dog_rates/status/891815181...</td>\n",
       "      <td>12</td>\n",
       "      <td>10</td>\n",
       "      <td>Archie</td>\n",
       "      <td>https://t.co/wUnZnhtVJB</td>\n",
       "      <td>NaN</td>\n",
       "    </tr>\n",
       "    <tr>\n",
       "      <th>3</th>\n",
       "      <td>891689557279858688</td>\n",
       "      <td>2017-07-30 15:58:51</td>\n",
       "      <td>&lt;a href=\"http://twitter.com/download/iphone\" r...</td>\n",
       "      <td>This is Darla. She commenced a snooze mid meal...</td>\n",
       "      <td>https://twitter.com/dog_rates/status/891689557...</td>\n",
       "      <td>13</td>\n",
       "      <td>10</td>\n",
       "      <td>Darla</td>\n",
       "      <td>https://t.co/tD36da7qLQ</td>\n",
       "      <td>NaN</td>\n",
       "    </tr>\n",
       "    <tr>\n",
       "      <th>4</th>\n",
       "      <td>891327558926688256</td>\n",
       "      <td>2017-07-29 16:00:24</td>\n",
       "      <td>&lt;a href=\"http://twitter.com/download/iphone\" r...</td>\n",
       "      <td>This is Franklin. He would like you to stop ca...</td>\n",
       "      <td>https://twitter.com/dog_rates/status/891327558...</td>\n",
       "      <td>12</td>\n",
       "      <td>10</td>\n",
       "      <td>Franklin</td>\n",
       "      <td>https://t.co/AtUZn91f7f</td>\n",
       "      <td>NaN</td>\n",
       "    </tr>\n",
       "  </tbody>\n",
       "</table>\n",
       "</div>"
      ],
      "text/plain": [
       "             tweet_id           timestamp  \\\n",
       "0  892420643555336193 2017-08-01 16:23:56   \n",
       "1  892177421306343426 2017-08-01 00:17:27   \n",
       "2  891815181378084864 2017-07-31 00:18:03   \n",
       "3  891689557279858688 2017-07-30 15:58:51   \n",
       "4  891327558926688256 2017-07-29 16:00:24   \n",
       "\n",
       "                                              source  \\\n",
       "0  <a href=\"http://twitter.com/download/iphone\" r...   \n",
       "1  <a href=\"http://twitter.com/download/iphone\" r...   \n",
       "2  <a href=\"http://twitter.com/download/iphone\" r...   \n",
       "3  <a href=\"http://twitter.com/download/iphone\" r...   \n",
       "4  <a href=\"http://twitter.com/download/iphone\" r...   \n",
       "\n",
       "                                                text  \\\n",
       "0  This is Phineas. He's a mystical boy. Only eve...   \n",
       "1  This is Tilly. She's just checking pup on you....   \n",
       "2  This is Archie. He is a rare Norwegian Pouncin...   \n",
       "3  This is Darla. She commenced a snooze mid meal...   \n",
       "4  This is Franklin. He would like you to stop ca...   \n",
       "\n",
       "                                       expanded_urls  rating_numerator  \\\n",
       "0  https://twitter.com/dog_rates/status/892420643...                13   \n",
       "1  https://twitter.com/dog_rates/status/892177421...                13   \n",
       "2  https://twitter.com/dog_rates/status/891815181...                12   \n",
       "3  https://twitter.com/dog_rates/status/891689557...                13   \n",
       "4  https://twitter.com/dog_rates/status/891327558...                12   \n",
       "\n",
       "   rating_denominator      name                quick_url stage  \n",
       "0                  10   Phineas  https://t.co/MgUWQ76dJU   NaN  \n",
       "1                  10     Tilly  https://t.co/0Xxu71qeIV   NaN  \n",
       "2                  10    Archie  https://t.co/wUnZnhtVJB   NaN  \n",
       "3                  10     Darla  https://t.co/tD36da7qLQ   NaN  \n",
       "4                  10  Franklin  https://t.co/AtUZn91f7f   NaN  "
      ]
     },
     "execution_count": 65,
     "metadata": {},
     "output_type": "execute_result"
    }
   ],
   "source": [
    "twitter_archive_clean.head()"
   ]
  },
  {
   "cell_type": "markdown",
   "metadata": {},
   "source": [
    "<b>Define</b>"
   ]
  },
  {
   "cell_type": "markdown",
   "metadata": {},
   "source": [
    "Change stage to categorical"
   ]
  },
  {
   "cell_type": "markdown",
   "metadata": {},
   "source": [
    "<b>Code</b>"
   ]
  },
  {
   "cell_type": "code",
   "execution_count": 66,
   "metadata": {},
   "outputs": [],
   "source": [
    "twitter_archive_clean.stage=twitter_archive_clean.stage.astype('category')"
   ]
  },
  {
   "cell_type": "markdown",
   "metadata": {},
   "source": [
    "<b>Test</b>"
   ]
  },
  {
   "cell_type": "code",
   "execution_count": 67,
   "metadata": {},
   "outputs": [
    {
     "name": "stdout",
     "output_type": "stream",
     "text": [
      "<class 'pandas.core.frame.DataFrame'>\n",
      "Int64Index: 2072 entries, 0 to 2355\n",
      "Data columns (total 10 columns):\n",
      "tweet_id              2072 non-null int64\n",
      "timestamp             2072 non-null datetime64[ns]\n",
      "source                2072 non-null object\n",
      "text                  2072 non-null object\n",
      "expanded_urls         2072 non-null object\n",
      "rating_numerator      2072 non-null int64\n",
      "rating_denominator    2072 non-null int64\n",
      "name                  2072 non-null object\n",
      "quick_url             2072 non-null object\n",
      "stage                 345 non-null category\n",
      "dtypes: category(1), datetime64[ns](1), int64(3), object(5)\n",
      "memory usage: 164.1+ KB\n"
     ]
    }
   ],
   "source": [
    "twitter_archive_clean.info()"
   ]
  },
  {
   "cell_type": "markdown",
   "metadata": {},
   "source": [
    "The final step is to join 2 tables."
   ]
  },
  {
   "cell_type": "markdown",
   "metadata": {},
   "source": [
    "<b>Define</b>"
   ]
  },
  {
   "cell_type": "markdown",
   "metadata": {},
   "source": [
    "Merge image_predictions and tweet_scores."
   ]
  },
  {
   "cell_type": "markdown",
   "metadata": {},
   "source": [
    "<b>Code</b>"
   ]
  },
  {
   "cell_type": "code",
   "execution_count": 68,
   "metadata": {},
   "outputs": [],
   "source": [
    "tweet_scores_clean.rename(columns={\"id\": \"tweet_id\"},inplace=True)"
   ]
  },
  {
   "cell_type": "code",
   "execution_count": 69,
   "metadata": {},
   "outputs": [],
   "source": [
    "prediction_and_counts=image_predictions_clean.merge(tweet_scores_clean, how='left',on='tweet_id')"
   ]
  },
  {
   "cell_type": "markdown",
   "metadata": {},
   "source": [
    "<b>Test</b>"
   ]
  },
  {
   "cell_type": "code",
   "execution_count": 70,
   "metadata": {},
   "outputs": [
    {
     "data": {
      "text/html": [
       "<div>\n",
       "<style scoped>\n",
       "    .dataframe tbody tr th:only-of-type {\n",
       "        vertical-align: middle;\n",
       "    }\n",
       "\n",
       "    .dataframe tbody tr th {\n",
       "        vertical-align: top;\n",
       "    }\n",
       "\n",
       "    .dataframe thead th {\n",
       "        text-align: right;\n",
       "    }\n",
       "</style>\n",
       "<table border=\"1\" class=\"dataframe\">\n",
       "  <thead>\n",
       "    <tr style=\"text-align: right;\">\n",
       "      <th></th>\n",
       "      <th>tweet_id</th>\n",
       "      <th>jpg_url</th>\n",
       "      <th>img_num</th>\n",
       "      <th>p1</th>\n",
       "      <th>p1_conf</th>\n",
       "      <th>p1_dog</th>\n",
       "      <th>p2</th>\n",
       "      <th>p2_conf</th>\n",
       "      <th>p2_dog</th>\n",
       "      <th>p3</th>\n",
       "      <th>p3_conf</th>\n",
       "      <th>p3_dog</th>\n",
       "      <th>retweet_count</th>\n",
       "      <th>favorite_count</th>\n",
       "    </tr>\n",
       "  </thead>\n",
       "  <tbody>\n",
       "    <tr>\n",
       "      <th>0</th>\n",
       "      <td>666020888022790149</td>\n",
       "      <td>https://pbs.twimg.com/media/CT4udn0WwAA0aMy.jpg</td>\n",
       "      <td>1</td>\n",
       "      <td>Welsh_springer_spaniel</td>\n",
       "      <td>0.465074</td>\n",
       "      <td>True</td>\n",
       "      <td>collie</td>\n",
       "      <td>0.156665</td>\n",
       "      <td>True</td>\n",
       "      <td>Shetland_sheepdog</td>\n",
       "      <td>0.061428</td>\n",
       "      <td>True</td>\n",
       "      <td>520</td>\n",
       "      <td>2561</td>\n",
       "    </tr>\n",
       "    <tr>\n",
       "      <th>1</th>\n",
       "      <td>666029285002620928</td>\n",
       "      <td>https://pbs.twimg.com/media/CT42GRgUYAA5iDo.jpg</td>\n",
       "      <td>1</td>\n",
       "      <td>None</td>\n",
       "      <td>0.506826</td>\n",
       "      <td>True</td>\n",
       "      <td>miniature_pinscher</td>\n",
       "      <td>0.074192</td>\n",
       "      <td>True</td>\n",
       "      <td>Rhodesian_ridgeback</td>\n",
       "      <td>0.072010</td>\n",
       "      <td>True</td>\n",
       "      <td>47</td>\n",
       "      <td>131</td>\n",
       "    </tr>\n",
       "    <tr>\n",
       "      <th>2</th>\n",
       "      <td>666033412701032449</td>\n",
       "      <td>https://pbs.twimg.com/media/CT4521TWwAEvMyu.jpg</td>\n",
       "      <td>1</td>\n",
       "      <td>German_shepherd</td>\n",
       "      <td>0.596461</td>\n",
       "      <td>True</td>\n",
       "      <td>malinois</td>\n",
       "      <td>0.138584</td>\n",
       "      <td>True</td>\n",
       "      <td>bloodhound</td>\n",
       "      <td>0.116197</td>\n",
       "      <td>True</td>\n",
       "      <td>44</td>\n",
       "      <td>125</td>\n",
       "    </tr>\n",
       "    <tr>\n",
       "      <th>3</th>\n",
       "      <td>666044226329800704</td>\n",
       "      <td>https://pbs.twimg.com/media/CT5Dr8HUEAA-lEu.jpg</td>\n",
       "      <td>1</td>\n",
       "      <td>Rhodesian_ridgeback</td>\n",
       "      <td>0.408143</td>\n",
       "      <td>True</td>\n",
       "      <td>None</td>\n",
       "      <td>0.360687</td>\n",
       "      <td>True</td>\n",
       "      <td>miniature_pinscher</td>\n",
       "      <td>0.222752</td>\n",
       "      <td>True</td>\n",
       "      <td>141</td>\n",
       "      <td>301</td>\n",
       "    </tr>\n",
       "    <tr>\n",
       "      <th>4</th>\n",
       "      <td>666049248165822465</td>\n",
       "      <td>https://pbs.twimg.com/media/CT5IQmsXIAAKY4A.jpg</td>\n",
       "      <td>1</td>\n",
       "      <td>miniature_pinscher</td>\n",
       "      <td>0.560311</td>\n",
       "      <td>True</td>\n",
       "      <td>Rottweiler</td>\n",
       "      <td>0.243682</td>\n",
       "      <td>True</td>\n",
       "      <td>Doberman</td>\n",
       "      <td>0.154629</td>\n",
       "      <td>True</td>\n",
       "      <td>40</td>\n",
       "      <td>109</td>\n",
       "    </tr>\n",
       "  </tbody>\n",
       "</table>\n",
       "</div>"
      ],
      "text/plain": [
       "             tweet_id                                          jpg_url  \\\n",
       "0  666020888022790149  https://pbs.twimg.com/media/CT4udn0WwAA0aMy.jpg   \n",
       "1  666029285002620928  https://pbs.twimg.com/media/CT42GRgUYAA5iDo.jpg   \n",
       "2  666033412701032449  https://pbs.twimg.com/media/CT4521TWwAEvMyu.jpg   \n",
       "3  666044226329800704  https://pbs.twimg.com/media/CT5Dr8HUEAA-lEu.jpg   \n",
       "4  666049248165822465  https://pbs.twimg.com/media/CT5IQmsXIAAKY4A.jpg   \n",
       "\n",
       "   img_num                      p1   p1_conf  p1_dog                  p2  \\\n",
       "0        1  Welsh_springer_spaniel  0.465074    True              collie   \n",
       "1        1                    None  0.506826    True  miniature_pinscher   \n",
       "2        1         German_shepherd  0.596461    True            malinois   \n",
       "3        1     Rhodesian_ridgeback  0.408143    True                None   \n",
       "4        1      miniature_pinscher  0.560311    True          Rottweiler   \n",
       "\n",
       "    p2_conf  p2_dog                   p3   p3_conf  p3_dog retweet_count  \\\n",
       "0  0.156665    True    Shetland_sheepdog  0.061428    True           520   \n",
       "1  0.074192    True  Rhodesian_ridgeback  0.072010    True            47   \n",
       "2  0.138584    True           bloodhound  0.116197    True            44   \n",
       "3  0.360687    True   miniature_pinscher  0.222752    True           141   \n",
       "4  0.243682    True             Doberman  0.154629    True            40   \n",
       "\n",
       "  favorite_count  \n",
       "0           2561  \n",
       "1            131  \n",
       "2            125  \n",
       "3            301  \n",
       "4            109  "
      ]
     },
     "execution_count": 70,
     "metadata": {},
     "output_type": "execute_result"
    }
   ],
   "source": [
    "prediction_and_counts.head()"
   ]
  },
  {
   "cell_type": "markdown",
   "metadata": {},
   "source": [
    "<b>Define</b>"
   ]
  },
  {
   "cell_type": "markdown",
   "metadata": {},
   "source": [
    "Extract rating numerators(including floats)"
   ]
  },
  {
   "cell_type": "markdown",
   "metadata": {},
   "source": [
    "<b>Code</b>"
   ]
  },
  {
   "cell_type": "code",
   "execution_count": 71,
   "metadata": {},
   "outputs": [],
   "source": [
    "#extract the whole rating, e.g 12.75/10 \n",
    "extracted_rating=twitter_archive_clean.text.str.extract('([0-9]+\\.?[0-9]*/[0-9]+)', expand=False)\n",
    "#extract the numerator, e.g 12.75\n",
    "extracted_numerator=extracted_rating.apply(lambda x: x.split('/')[0])\n",
    "#update column values in the data\n",
    "twitter_archive_clean['rating_numerator']=extracted_numerator"
   ]
  },
  {
   "cell_type": "markdown",
   "metadata": {},
   "source": [
    "<b>Test</b>"
   ]
  },
  {
   "cell_type": "code",
   "execution_count": 72,
   "metadata": {},
   "outputs": [
    {
     "data": {
      "text/html": [
       "<div>\n",
       "<style scoped>\n",
       "    .dataframe tbody tr th:only-of-type {\n",
       "        vertical-align: middle;\n",
       "    }\n",
       "\n",
       "    .dataframe tbody tr th {\n",
       "        vertical-align: top;\n",
       "    }\n",
       "\n",
       "    .dataframe thead th {\n",
       "        text-align: right;\n",
       "    }\n",
       "</style>\n",
       "<table border=\"1\" class=\"dataframe\">\n",
       "  <thead>\n",
       "    <tr style=\"text-align: right;\">\n",
       "      <th></th>\n",
       "      <th>tweet_id</th>\n",
       "      <th>timestamp</th>\n",
       "      <th>source</th>\n",
       "      <th>text</th>\n",
       "      <th>expanded_urls</th>\n",
       "      <th>rating_numerator</th>\n",
       "      <th>rating_denominator</th>\n",
       "      <th>name</th>\n",
       "      <th>quick_url</th>\n",
       "      <th>stage</th>\n",
       "    </tr>\n",
       "  </thead>\n",
       "  <tbody>\n",
       "    <tr>\n",
       "      <th>45</th>\n",
       "      <td>883482846933004288</td>\n",
       "      <td>2017-07-08 00:28:19</td>\n",
       "      <td>&lt;a href=\"http://twitter.com/download/iphone\" r...</td>\n",
       "      <td>This is Bella. She hopes her smile made you sm...</td>\n",
       "      <td>https://twitter.com/dog_rates/status/883482846...</td>\n",
       "      <td>13.5</td>\n",
       "      <td>10</td>\n",
       "      <td>Bella</td>\n",
       "      <td>https://t.co/qjrljjt948</td>\n",
       "      <td>NaN</td>\n",
       "    </tr>\n",
       "  </tbody>\n",
       "</table>\n",
       "</div>"
      ],
      "text/plain": [
       "              tweet_id           timestamp  \\\n",
       "45  883482846933004288 2017-07-08 00:28:19   \n",
       "\n",
       "                                               source  \\\n",
       "45  <a href=\"http://twitter.com/download/iphone\" r...   \n",
       "\n",
       "                                                 text  \\\n",
       "45  This is Bella. She hopes her smile made you sm...   \n",
       "\n",
       "                                        expanded_urls rating_numerator  \\\n",
       "45  https://twitter.com/dog_rates/status/883482846...             13.5   \n",
       "\n",
       "    rating_denominator   name                quick_url stage  \n",
       "45                  10  Bella  https://t.co/qjrljjt948   NaN  "
      ]
     },
     "execution_count": 72,
     "metadata": {},
     "output_type": "execute_result"
    }
   ],
   "source": [
    "twitter_archive_clean[twitter_archive_clean.tweet_id==883482846933004288]"
   ]
  },
  {
   "cell_type": "markdown",
   "metadata": {},
   "source": [
    "<b>Define</b>"
   ]
  },
  {
   "cell_type": "markdown",
   "metadata": {},
   "source": [
    "Merge twitter_archive_cleand and prediction_and_counts by tweet_id"
   ]
  },
  {
   "cell_type": "markdown",
   "metadata": {},
   "source": [
    "<b>Code</b>"
   ]
  },
  {
   "cell_type": "code",
   "execution_count": 73,
   "metadata": {},
   "outputs": [],
   "source": [
    "twitter_archive_master=prediction_and_counts.merge(twitter_archive_clean, how='inner',on='tweet_id')"
   ]
  },
  {
   "cell_type": "markdown",
   "metadata": {},
   "source": [
    "<b>Test</b>"
   ]
  },
  {
   "cell_type": "code",
   "execution_count": 74,
   "metadata": {},
   "outputs": [
    {
     "name": "stdout",
     "output_type": "stream",
     "text": [
      "<class 'pandas.core.frame.DataFrame'>\n",
      "Int64Index: 1949 entries, 0 to 1948\n",
      "Data columns (total 23 columns):\n",
      "tweet_id              1949 non-null int64\n",
      "jpg_url               1949 non-null object\n",
      "img_num               1949 non-null int64\n",
      "p1                    1949 non-null category\n",
      "p1_conf               1949 non-null float64\n",
      "p1_dog                1949 non-null bool\n",
      "p2                    1949 non-null category\n",
      "p2_conf               1949 non-null float64\n",
      "p2_dog                1949 non-null bool\n",
      "p3                    1949 non-null category\n",
      "p3_conf               1949 non-null float64\n",
      "p3_dog                1949 non-null bool\n",
      "retweet_count         1949 non-null object\n",
      "favorite_count        1949 non-null object\n",
      "timestamp             1949 non-null datetime64[ns]\n",
      "source                1949 non-null object\n",
      "text                  1949 non-null object\n",
      "expanded_urls         1949 non-null object\n",
      "rating_numerator      1949 non-null object\n",
      "rating_denominator    1949 non-null int64\n",
      "name                  1949 non-null object\n",
      "quick_url             1949 non-null object\n",
      "stage                 315 non-null category\n",
      "dtypes: bool(3), category(4), datetime64[ns](1), float64(3), int64(3), object(9)\n",
      "memory usage: 306.0+ KB\n"
     ]
    }
   ],
   "source": [
    "twitter_archive_master.info()"
   ]
  },
  {
   "cell_type": "markdown",
   "metadata": {},
   "source": [
    "<b>Define</b>"
   ]
  },
  {
   "cell_type": "markdown",
   "metadata": {},
   "source": [
    "Convert tweet_id's type to strings"
   ]
  },
  {
   "cell_type": "markdown",
   "metadata": {},
   "source": [
    "<b>Code</b>"
   ]
  },
  {
   "cell_type": "code",
   "execution_count": 75,
   "metadata": {},
   "outputs": [],
   "source": [
    "twitter_archive_master.tweet_id=twitter_archive_master.tweet_id.astype('str')"
   ]
  },
  {
   "cell_type": "markdown",
   "metadata": {},
   "source": [
    "<b>Test</b>"
   ]
  },
  {
   "cell_type": "code",
   "execution_count": 76,
   "metadata": {},
   "outputs": [
    {
     "name": "stdout",
     "output_type": "stream",
     "text": [
      "<class 'pandas.core.frame.DataFrame'>\n",
      "Int64Index: 1949 entries, 0 to 1948\n",
      "Data columns (total 23 columns):\n",
      "tweet_id              1949 non-null object\n",
      "jpg_url               1949 non-null object\n",
      "img_num               1949 non-null int64\n",
      "p1                    1949 non-null category\n",
      "p1_conf               1949 non-null float64\n",
      "p1_dog                1949 non-null bool\n",
      "p2                    1949 non-null category\n",
      "p2_conf               1949 non-null float64\n",
      "p2_dog                1949 non-null bool\n",
      "p3                    1949 non-null category\n",
      "p3_conf               1949 non-null float64\n",
      "p3_dog                1949 non-null bool\n",
      "retweet_count         1949 non-null object\n",
      "favorite_count        1949 non-null object\n",
      "timestamp             1949 non-null datetime64[ns]\n",
      "source                1949 non-null object\n",
      "text                  1949 non-null object\n",
      "expanded_urls         1949 non-null object\n",
      "rating_numerator      1949 non-null object\n",
      "rating_denominator    1949 non-null int64\n",
      "name                  1949 non-null object\n",
      "quick_url             1949 non-null object\n",
      "stage                 315 non-null category\n",
      "dtypes: bool(3), category(4), datetime64[ns](1), float64(3), int64(2), object(10)\n",
      "memory usage: 306.0+ KB\n"
     ]
    }
   ],
   "source": [
    "twitter_archive_master.info()"
   ]
  },
  {
   "cell_type": "code",
   "execution_count": 78,
   "metadata": {},
   "outputs": [],
   "source": [
    "twitter_archive_master=twitter_archive_master.replace('None', np.NaN)\n",
    "twitter_archive_master.rating_numerator=twitter_archive_master.rating_numerator.astype(float)\n",
    "twitter_archive_master.retweet_count=twitter_archive_master.retweet_count.astype('int64')\n",
    "twitter_archive_master.favorite_count=twitter_archive_master.favorite_count.astype('int64')"
   ]
  },
  {
   "cell_type": "code",
   "execution_count": 79,
   "metadata": {},
   "outputs": [
    {
     "name": "stdout",
     "output_type": "stream",
     "text": [
      "<class 'pandas.core.frame.DataFrame'>\n",
      "Int64Index: 1949 entries, 0 to 1948\n",
      "Data columns (total 23 columns):\n",
      "tweet_id              1949 non-null object\n",
      "jpg_url               1949 non-null object\n",
      "img_num               1949 non-null int64\n",
      "p1                    1321 non-null category\n",
      "p1_conf               1949 non-null float64\n",
      "p1_dog                1949 non-null bool\n",
      "p2                    1541 non-null category\n",
      "p2_conf               1949 non-null float64\n",
      "p2_dog                1949 non-null bool\n",
      "p3                    1499 non-null category\n",
      "p3_conf               1949 non-null float64\n",
      "p3_dog                1949 non-null bool\n",
      "retweet_count         1949 non-null int64\n",
      "favorite_count        1949 non-null int64\n",
      "timestamp             1949 non-null datetime64[ns]\n",
      "source                1949 non-null object\n",
      "text                  1949 non-null object\n",
      "expanded_urls         1949 non-null object\n",
      "rating_numerator      1949 non-null float64\n",
      "rating_denominator    1949 non-null int64\n",
      "name                  1343 non-null object\n",
      "quick_url             1949 non-null object\n",
      "stage                 315 non-null category\n",
      "dtypes: bool(3), category(4), datetime64[ns](1), float64(4), int64(4), object(7)\n",
      "memory usage: 306.0+ KB\n"
     ]
    }
   ],
   "source": [
    "twitter_archive_master.info()"
   ]
  },
  {
   "cell_type": "markdown",
   "metadata": {},
   "source": [
    "<b>Store the data sets.</b>"
   ]
  },
  {
   "cell_type": "code",
   "execution_count": 80,
   "metadata": {},
   "outputs": [],
   "source": [
    "twitter_archive_master.to_csv('twitter_archive_master.csv')"
   ]
  },
  {
   "cell_type": "markdown",
   "metadata": {},
   "source": [
    "<b>Analyzing, visualizing Data</b>"
   ]
  },
  {
   "cell_type": "code",
   "execution_count": 81,
   "metadata": {},
   "outputs": [
    {
     "data": {
      "text/html": [
       "<div>\n",
       "<style scoped>\n",
       "    .dataframe tbody tr th:only-of-type {\n",
       "        vertical-align: middle;\n",
       "    }\n",
       "\n",
       "    .dataframe tbody tr th {\n",
       "        vertical-align: top;\n",
       "    }\n",
       "\n",
       "    .dataframe thead th {\n",
       "        text-align: right;\n",
       "    }\n",
       "</style>\n",
       "<table border=\"1\" class=\"dataframe\">\n",
       "  <thead>\n",
       "    <tr style=\"text-align: right;\">\n",
       "      <th></th>\n",
       "      <th>tweet_id</th>\n",
       "      <th>jpg_url</th>\n",
       "      <th>img_num</th>\n",
       "      <th>p1</th>\n",
       "      <th>p1_conf</th>\n",
       "      <th>p1_dog</th>\n",
       "      <th>p2</th>\n",
       "      <th>p2_conf</th>\n",
       "      <th>p2_dog</th>\n",
       "      <th>p3</th>\n",
       "      <th>...</th>\n",
       "      <th>favorite_count</th>\n",
       "      <th>timestamp</th>\n",
       "      <th>source</th>\n",
       "      <th>text</th>\n",
       "      <th>expanded_urls</th>\n",
       "      <th>rating_numerator</th>\n",
       "      <th>rating_denominator</th>\n",
       "      <th>name</th>\n",
       "      <th>quick_url</th>\n",
       "      <th>stage</th>\n",
       "    </tr>\n",
       "  </thead>\n",
       "  <tbody>\n",
       "    <tr>\n",
       "      <th>0</th>\n",
       "      <td>666020888022790149</td>\n",
       "      <td>https://pbs.twimg.com/media/CT4udn0WwAA0aMy.jpg</td>\n",
       "      <td>1</td>\n",
       "      <td>Welsh_springer_spaniel</td>\n",
       "      <td>0.465074</td>\n",
       "      <td>True</td>\n",
       "      <td>collie</td>\n",
       "      <td>0.156665</td>\n",
       "      <td>True</td>\n",
       "      <td>Shetland_sheepdog</td>\n",
       "      <td>...</td>\n",
       "      <td>2561</td>\n",
       "      <td>2015-11-15 22:32:08</td>\n",
       "      <td>&lt;a href=\"http://twitter.com/download/iphone\" r...</td>\n",
       "      <td>Here we have a Japanese Irish Setter. Lost eye...</td>\n",
       "      <td>https://twitter.com/dog_rates/status/666020888...</td>\n",
       "      <td>8.0</td>\n",
       "      <td>10</td>\n",
       "      <td>NaN</td>\n",
       "      <td>https://t.co/BLDqew2Ijj</td>\n",
       "      <td>NaN</td>\n",
       "    </tr>\n",
       "    <tr>\n",
       "      <th>1</th>\n",
       "      <td>666029285002620928</td>\n",
       "      <td>https://pbs.twimg.com/media/CT42GRgUYAA5iDo.jpg</td>\n",
       "      <td>1</td>\n",
       "      <td>NaN</td>\n",
       "      <td>0.506826</td>\n",
       "      <td>True</td>\n",
       "      <td>miniature_pinscher</td>\n",
       "      <td>0.074192</td>\n",
       "      <td>True</td>\n",
       "      <td>Rhodesian_ridgeback</td>\n",
       "      <td>...</td>\n",
       "      <td>131</td>\n",
       "      <td>2015-11-15 23:05:30</td>\n",
       "      <td>&lt;a href=\"http://twitter.com/download/iphone\" r...</td>\n",
       "      <td>This is a western brown Mitsubishi terrier. Up...</td>\n",
       "      <td>https://twitter.com/dog_rates/status/666029285...</td>\n",
       "      <td>7.0</td>\n",
       "      <td>10</td>\n",
       "      <td>NaN</td>\n",
       "      <td>https://t.co/r7mOb2m0UI</td>\n",
       "      <td>NaN</td>\n",
       "    </tr>\n",
       "    <tr>\n",
       "      <th>2</th>\n",
       "      <td>666033412701032449</td>\n",
       "      <td>https://pbs.twimg.com/media/CT4521TWwAEvMyu.jpg</td>\n",
       "      <td>1</td>\n",
       "      <td>German_shepherd</td>\n",
       "      <td>0.596461</td>\n",
       "      <td>True</td>\n",
       "      <td>malinois</td>\n",
       "      <td>0.138584</td>\n",
       "      <td>True</td>\n",
       "      <td>bloodhound</td>\n",
       "      <td>...</td>\n",
       "      <td>125</td>\n",
       "      <td>2015-11-15 23:21:54</td>\n",
       "      <td>&lt;a href=\"http://twitter.com/download/iphone\" r...</td>\n",
       "      <td>Here is a very happy pup. Big fan of well-main...</td>\n",
       "      <td>https://twitter.com/dog_rates/status/666033412...</td>\n",
       "      <td>9.0</td>\n",
       "      <td>10</td>\n",
       "      <td>NaN</td>\n",
       "      <td>https://t.co/y671yMhoiR</td>\n",
       "      <td>NaN</td>\n",
       "    </tr>\n",
       "    <tr>\n",
       "      <th>3</th>\n",
       "      <td>666044226329800704</td>\n",
       "      <td>https://pbs.twimg.com/media/CT5Dr8HUEAA-lEu.jpg</td>\n",
       "      <td>1</td>\n",
       "      <td>Rhodesian_ridgeback</td>\n",
       "      <td>0.408143</td>\n",
       "      <td>True</td>\n",
       "      <td>NaN</td>\n",
       "      <td>0.360687</td>\n",
       "      <td>True</td>\n",
       "      <td>miniature_pinscher</td>\n",
       "      <td>...</td>\n",
       "      <td>301</td>\n",
       "      <td>2015-11-16 00:04:52</td>\n",
       "      <td>&lt;a href=\"http://twitter.com/download/iphone\" r...</td>\n",
       "      <td>This is a purebred Piers Morgan. Loves to Netf...</td>\n",
       "      <td>https://twitter.com/dog_rates/status/666044226...</td>\n",
       "      <td>6.0</td>\n",
       "      <td>10</td>\n",
       "      <td>NaN</td>\n",
       "      <td>https://t.co/DWnyCjf2mx</td>\n",
       "      <td>NaN</td>\n",
       "    </tr>\n",
       "    <tr>\n",
       "      <th>4</th>\n",
       "      <td>666049248165822465</td>\n",
       "      <td>https://pbs.twimg.com/media/CT5IQmsXIAAKY4A.jpg</td>\n",
       "      <td>1</td>\n",
       "      <td>miniature_pinscher</td>\n",
       "      <td>0.560311</td>\n",
       "      <td>True</td>\n",
       "      <td>Rottweiler</td>\n",
       "      <td>0.243682</td>\n",
       "      <td>True</td>\n",
       "      <td>Doberman</td>\n",
       "      <td>...</td>\n",
       "      <td>109</td>\n",
       "      <td>2015-11-16 00:24:50</td>\n",
       "      <td>&lt;a href=\"http://twitter.com/download/iphone\" r...</td>\n",
       "      <td>Here we have a 1949 1st generation vulpix. Enj...</td>\n",
       "      <td>https://twitter.com/dog_rates/status/666049248...</td>\n",
       "      <td>5.0</td>\n",
       "      <td>10</td>\n",
       "      <td>NaN</td>\n",
       "      <td>https://t.co/4B7cOc1EDq</td>\n",
       "      <td>NaN</td>\n",
       "    </tr>\n",
       "  </tbody>\n",
       "</table>\n",
       "<p>5 rows × 23 columns</p>\n",
       "</div>"
      ],
      "text/plain": [
       "             tweet_id                                          jpg_url  \\\n",
       "0  666020888022790149  https://pbs.twimg.com/media/CT4udn0WwAA0aMy.jpg   \n",
       "1  666029285002620928  https://pbs.twimg.com/media/CT42GRgUYAA5iDo.jpg   \n",
       "2  666033412701032449  https://pbs.twimg.com/media/CT4521TWwAEvMyu.jpg   \n",
       "3  666044226329800704  https://pbs.twimg.com/media/CT5Dr8HUEAA-lEu.jpg   \n",
       "4  666049248165822465  https://pbs.twimg.com/media/CT5IQmsXIAAKY4A.jpg   \n",
       "\n",
       "   img_num                      p1   p1_conf  p1_dog                  p2  \\\n",
       "0        1  Welsh_springer_spaniel  0.465074    True              collie   \n",
       "1        1                     NaN  0.506826    True  miniature_pinscher   \n",
       "2        1         German_shepherd  0.596461    True            malinois   \n",
       "3        1     Rhodesian_ridgeback  0.408143    True                 NaN   \n",
       "4        1      miniature_pinscher  0.560311    True          Rottweiler   \n",
       "\n",
       "    p2_conf  p2_dog                   p3  ...    favorite_count  \\\n",
       "0  0.156665    True    Shetland_sheepdog  ...              2561   \n",
       "1  0.074192    True  Rhodesian_ridgeback  ...               131   \n",
       "2  0.138584    True           bloodhound  ...               125   \n",
       "3  0.360687    True   miniature_pinscher  ...               301   \n",
       "4  0.243682    True             Doberman  ...               109   \n",
       "\n",
       "            timestamp                                             source  \\\n",
       "0 2015-11-15 22:32:08  <a href=\"http://twitter.com/download/iphone\" r...   \n",
       "1 2015-11-15 23:05:30  <a href=\"http://twitter.com/download/iphone\" r...   \n",
       "2 2015-11-15 23:21:54  <a href=\"http://twitter.com/download/iphone\" r...   \n",
       "3 2015-11-16 00:04:52  <a href=\"http://twitter.com/download/iphone\" r...   \n",
       "4 2015-11-16 00:24:50  <a href=\"http://twitter.com/download/iphone\" r...   \n",
       "\n",
       "                                                text  \\\n",
       "0  Here we have a Japanese Irish Setter. Lost eye...   \n",
       "1  This is a western brown Mitsubishi terrier. Up...   \n",
       "2  Here is a very happy pup. Big fan of well-main...   \n",
       "3  This is a purebred Piers Morgan. Loves to Netf...   \n",
       "4  Here we have a 1949 1st generation vulpix. Enj...   \n",
       "\n",
       "                                       expanded_urls rating_numerator  \\\n",
       "0  https://twitter.com/dog_rates/status/666020888...              8.0   \n",
       "1  https://twitter.com/dog_rates/status/666029285...              7.0   \n",
       "2  https://twitter.com/dog_rates/status/666033412...              9.0   \n",
       "3  https://twitter.com/dog_rates/status/666044226...              6.0   \n",
       "4  https://twitter.com/dog_rates/status/666049248...              5.0   \n",
       "\n",
       "  rating_denominator name                quick_url  stage  \n",
       "0                 10  NaN  https://t.co/BLDqew2Ijj    NaN  \n",
       "1                 10  NaN  https://t.co/r7mOb2m0UI    NaN  \n",
       "2                 10  NaN  https://t.co/y671yMhoiR    NaN  \n",
       "3                 10  NaN  https://t.co/DWnyCjf2mx    NaN  \n",
       "4                 10  NaN  https://t.co/4B7cOc1EDq    NaN  \n",
       "\n",
       "[5 rows x 23 columns]"
      ]
     },
     "execution_count": 81,
     "metadata": {},
     "output_type": "execute_result"
    }
   ],
   "source": [
    "twitter_archive_master.head()"
   ]
  },
  {
   "cell_type": "code",
   "execution_count": 86,
   "metadata": {},
   "outputs": [
    {
     "data": {
      "image/png": "[encoded data removed]",
      "text/plain": [
       "<Figure size 432x288 with 1 Axes>"
      ]
     },
     "metadata": {},
     "output_type": "display_data"
    }
   ],
   "source": [
    "twitter_archive_master.rating_numerator.plot(kind='hist');"
   ]
  },
  {
   "cell_type": "code",
   "execution_count": 83,
   "metadata": {},
   "outputs": [
    {
     "data": {
      "image/png": "[encoded data removed]",
      "text/plain": [
       "<Figure size 432x288 with 1 Axes>"
      ]
     },
     "metadata": {},
     "output_type": "display_data"
    }
   ],
   "source": [
    "twitter_archive_master.rating_numerator.plot(kind='box');"
   ]
  },
  {
   "cell_type": "markdown",
   "metadata": {},
   "source": [
    "The distribution of ratings is left_skewed. Most of the tweets receive ratings between 10 and 12. The median is 10, there are some outliers, who receive ratings less than 6."
   ]
  },
  {
   "cell_type": "code",
   "execution_count": 84,
   "metadata": {},
   "outputs": [
    {
     "data": {
      "image/png": "[encoded data removed]",
      "text/plain": [
       "<Figure size 432x288 with 1 Axes>"
      ]
     },
     "metadata": {},
     "output_type": "display_data"
    }
   ],
   "source": [
    "twitter_archive_master.stage.value_counts().plot(kind='bar');"
   ]
  },
  {
   "cell_type": "markdown",
   "metadata": {},
   "source": [
    "There are more than 200 puppers in the data set. We have to keep in mind that the data have only ~350 observations of a dog stage. \"Pupper\" is usually younger than \"doggo\" and \"puppo\" between these 2 stages. \"Floofer\" could be any dog, really. So, let's stick to these 3 stages: doggo, puppo, pupper."
   ]
  },
  {
   "cell_type": "code",
   "execution_count": 85,
   "metadata": {},
   "outputs": [
    {
     "data": {
      "image/png": "[encoded data removed]",
      "text/plain": [
       "<Figure size 432x288 with 1 Axes>"
      ]
     },
     "metadata": {},
     "output_type": "display_data"
    }
   ],
   "source": [
    "#select p1_dog true predictions\n",
    "p1_true=twitter_archive_master[twitter_archive_master['p1_dog']==True]\n",
    "p1_true.p1.value_counts().plot(kind='pie');"
   ]
  },
  {
   "cell_type": "markdown",
   "metadata": {},
   "source": [
    "According the image predictions machine learning algorithm, the most common breeds are chihuahua, labrador retriever, golden_retriever, pug, chow. Thera a lot of noise because the data represent population rather than a sample, so approximately all possible breeds represent the data. "
   ]
  },
  {
   "cell_type": "markdown",
   "metadata": {},
   "source": [
    "### Summary"
   ]
  },
  {
   "cell_type": "markdown",
   "metadata": {},
   "source": [
    "Further, we may investigate this data set, build a better machine learning algorithm, find out whether or not a correlation between dog stage and favorite/retweet counts exists or a correlation between ratings and dog breeds."
   ]
  },
  {
   "cell_type": "markdown",
   "metadata": {},
   "source": [
    "### Wrangling"
   ]
  },
  {
   "cell_type": "markdown",
   "metadata": {},
   "source": [
    "Wrangling has 3 steps: gather, assess, clean. These steps can iterate as new tasks appear. You should gather additional data (in some cases you can't) if you don't have enough for your analysis. In my opinion, the hardest task is to ask right questions. When you assess data you have to find missing values, incorrect values, multiple representations (duplicates), sometimes you don't have data for some observations and you have to gather again. In this case, we don't have enough data such as: retweet count and favorite count. So, we gathered this data through Twitter API called Tweepy. We got required data but 19 observations have missing values. It happened because some tweets are deleted and we can't do anything.<br>\n",
    "We saw that the data have incorrect(invalid) observations, in our case: retweets and replies to tweets. Fortunately, we can easy determine them by in_reply_to_status_id (replies) and retweeted_status_id (retweets). There was only one solution to this problem, as we were interested only in original tweets, we removed these observations. <br>\n",
    "Another problem was that 3 observations don't have expanded urls, these observations don't have images,  only notifications about something. We removed these invalid values from the data.<br>\n",
    "3 main problems of the data were: rating numerator, rating denominator and names of the dogs.<br>\n",
    "Firstly, denominator, according to their rate rules, should be 10 but we saw a lot of observations which don't support that rule.<br>\n",
    "Numerator should be less than 14, 14 is the highest rating. \n",
    "I checked all values with numerator greater than 14 and denominator not equal 10, all these observations have images where more than 1 dog or even a human(Snoop Dog), I decided to remove these rows as we can't compare them to the other tweets.<br> \n",
    "And the names have invalid values such as: 'a', 'an', 'old', etc.<br>\n",
    "Some values we could find from the text of each observation but in most cases we just don't have the required data of dog names.<br>\n",
    "Another problem was predictions of dog breeds. More than 300 values of prediction labels are incorrect. The problem was that there was no pattern of these incorrect values. So, you have to manually find these values. Of course, if you had access to the machine learning algorithm and change these values, it would be easy to handle the problem at the beginning.<br>\n",
    "Another problem was duplicates in the image predictions. Tweet id's don't have duplicates but jpg_url's do. 66 duplicares of jpg_url's, so what does it mean? I checked these tweet id's of duplicates and found out that these duplicates had 'retweeted_status_id' from the first data set (twitter_archive), so, we removed these duplicates.<br>\n",
    "Another issue was representation 2 variables in the same column. We extracted url from the text and created a new column 'quick_url'.<br>\n",
    "We also created a new column 'stage' and remove 4 columns: doggo, puppo, floofer, pupper.<br>\n",
    "At the end we created a new data set which contains image predictions and tweet scores. Of course, we could join 3 tables toghether, but in this case I decided to separate them."
   ]
  }
 ],
 "metadata": {
  "kernelspec": {
   "display_name": "Python 3",
   "language": "python",
   "name": "python3"
  },
  "language_info": {
   "codemirror_mode": {
    "name": "ipython",
    "version": 3
   },
   "file_extension": ".py",
   "mimetype": "text/x-python",
   "name": "python",
   "nbconvert_exporter": "python",
   "pygments_lexer": "ipython3",
   "version": "3.6.5"
  }
 },
 "nbformat": 4,
 "nbformat_minor": 2
}
